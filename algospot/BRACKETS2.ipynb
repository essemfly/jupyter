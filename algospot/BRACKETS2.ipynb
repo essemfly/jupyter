{
 "cells": [
  {
   "cell_type": "code",
   "execution_count": 21,
   "metadata": {
    "collapsed": true
   },
   "outputs": [],
   "source": [
    "def main(formula):\n",
    "    opening = '({['\n",
    "    closing = ')}]'\n",
    "    open_stacks = []\n",
    "    for character in formula:\n",
    "        print(character)\n",
    "        if character in opening:\n",
    "            print('opening')\n",
    "            open_stacks.append(character)\n",
    "        else:\n",
    "            if len(open_stacks) == 0:\n",
    "                print('0개임돠')\n",
    "                return False\n",
    "            if opening.index(open_stacks[-1]) != closing.index(character):\n",
    "                print('마지막거랑 달라요', open_stacks[-1])\n",
    "                return False\n",
    "            open_stacks.pop()\n",
    "    return False if len(open_stacks) > 0 else True"
   ]
  },
  {
   "cell_type": "code",
   "execution_count": 22,
   "metadata": {},
   "outputs": [
    {
     "name": "stdout",
     "output_type": "stream",
     "text": [
      "(\n",
      "opening\n",
      ")\n",
      "(\n",
      "opening\n",
      ")\n"
     ]
    },
    {
     "data": {
      "text/plain": [
       "True"
      ]
     },
     "execution_count": 22,
     "metadata": {},
     "output_type": "execute_result"
    }
   ],
   "source": [
    "main('()()')"
   ]
  },
  {
   "cell_type": "code",
   "execution_count": 23,
   "metadata": {},
   "outputs": [
    {
     "name": "stdout",
     "output_type": "stream",
     "text": [
      "(\n",
      "opening\n",
      "{\n",
      "opening\n",
      "[\n",
      "opening\n",
      "}\n",
      "마지막거랑 달라요 [\n"
     ]
    },
    {
     "data": {
      "text/plain": [
       "False"
      ]
     },
     "execution_count": 23,
     "metadata": {},
     "output_type": "execute_result"
    }
   ],
   "source": [
    "main('({[}])')"
   ]
  },
  {
   "cell_type": "code",
   "execution_count": 24,
   "metadata": {},
   "outputs": [
    {
     "name": "stdout",
     "output_type": "stream",
     "text": [
      "(\n",
      "opening\n",
      "{\n",
      "opening\n",
      "}\n",
      "[\n",
      "opening\n",
      "(\n",
      "opening\n",
      ")\n",
      "{\n",
      "opening\n",
      "}\n",
      "]\n",
      ")\n"
     ]
    },
    {
     "data": {
      "text/plain": [
       "True"
      ]
     },
     "execution_count": 24,
     "metadata": {},
     "output_type": "execute_result"
    }
   ],
   "source": [
    "main('({}[(){}])')"
   ]
  },
  {
   "cell_type": "code",
   "execution_count": null,
   "metadata": {
    "collapsed": true
   },
   "outputs": [],
   "source": []
  }
 ],
 "metadata": {
  "kernelspec": {
   "display_name": "Python 3",
   "language": "python",
   "name": "python3"
  },
  "language_info": {
   "codemirror_mode": {
    "name": "ipython",
    "version": 3
   },
   "file_extension": ".py",
   "mimetype": "text/x-python",
   "name": "python",
   "nbconvert_exporter": "python",
   "pygments_lexer": "ipython3",
   "version": "3.6.1"
  }
 },
 "nbformat": 4,
 "nbformat_minor": 2
}
