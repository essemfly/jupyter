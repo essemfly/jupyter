{
 "cells": [
  {
   "cell_type": "code",
   "execution_count": 1,
   "metadata": {
    "collapsed": true
   },
   "outputs": [],
   "source": [
    "test_cases_num = 2"
   ]
  },
  {
   "cell_type": "code",
   "execution_count": 2,
   "metadata": {
    "collapsed": true
   },
   "outputs": [],
   "source": [
    "triangles = []"
   ]
  },
  {
   "cell_type": "markdown",
   "metadata": {},
   "source": [
    "2\n",
    "5\n",
    "6\n",
    "1  2\n",
    "3  7  4\n",
    "9  4  1  7\n",
    "2  7  5  9  4\n",
    "5\n",
    "1 \n",
    "2 4\n",
    "8 16 8\n",
    "32 64 32 64\n",
    "128 256 128 256 128"
   ]
  },
  {
   "cell_type": "code",
   "execution_count": 4,
   "metadata": {},
   "outputs": [
    {
     "name": "stdout",
     "output_type": "stream",
     "text": [
      "삼각형의 크기:\n",
      "5\n",
      "6\n",
      "1 2\n",
      "3 7 4\n",
      "9 4 1 7\n",
      "2 7 5 9 4\n",
      "삼각형의 크기:\n",
      "5\n",
      "1\n",
      "2 4\n",
      "8 16 8\n",
      "32 64 32 64\n",
      "128 256 128 256 128\n"
     ]
    }
   ],
   "source": [
    "triangles = []\n",
    "for _ in range(int(test_cases_num)):\n",
    "    triangle_sample = []\n",
    "    print('삼각형의 크기:')\n",
    "    tri_length = input()\n",
    "    for _ in range(int(tri_length)):\n",
    "        triangle_sample.append(input().split(\" \"))\n",
    "    triangles.append(triangle_sample)"
   ]
  },
  {
   "cell_type": "code",
   "execution_count": 5,
   "metadata": {},
   "outputs": [
    {
     "data": {
      "text/plain": [
       "[[['6'],\n",
       "  ['1', '2'],\n",
       "  ['3', '7', '4'],\n",
       "  ['9', '4', '1', '7'],\n",
       "  ['2', '7', '5', '9', '4']],\n",
       " [['1'],\n",
       "  ['2', '4'],\n",
       "  ['8', '16', '8'],\n",
       "  ['32', '64', '32', '64'],\n",
       "  ['128', '256', '128', '256', '128']]]"
      ]
     },
     "execution_count": 5,
     "metadata": {},
     "output_type": "execute_result"
    }
   ],
   "source": [
    "triangles"
   ]
  },
  {
   "cell_type": "code",
   "execution_count": 18,
   "metadata": {},
   "outputs": [],
   "source": [
    "def path(triangle, y, x, aggr):\n",
    "    print(y, x, aggr)\n",
    "    if y == len(triangle):\n",
    "        return aggr\n",
    "    return max(path(triangle, y+1, x, int(triangle[y][x]) + aggr), path(triangle, y+1, x+1, aggr + int(triangle[y][x])))"
   ]
  },
  {
   "cell_type": "code",
   "execution_count": 20,
   "metadata": {},
   "outputs": [
    {
     "name": "stdout",
     "output_type": "stream",
     "text": [
      "0 0 0\n",
      "1 0 1\n",
      "2 0 3\n",
      "3 0 11\n",
      "4 0 43\n",
      "5 0 171\n",
      "5 1 171\n",
      "4 1 43\n",
      "5 1 299\n",
      "5 2 299\n",
      "3 1 11\n",
      "4 1 75\n",
      "5 1 331\n",
      "5 2 331\n",
      "4 2 75\n",
      "5 2 203\n",
      "5 3 203\n",
      "2 1 3\n",
      "3 1 19\n",
      "4 1 83\n",
      "5 1 339\n",
      "5 2 339\n",
      "4 2 83\n",
      "5 2 211\n",
      "5 3 211\n",
      "3 2 19\n",
      "4 2 51\n",
      "5 2 179\n",
      "5 3 179\n",
      "4 3 51\n",
      "5 3 307\n",
      "5 4 307\n",
      "1 1 1\n",
      "2 1 5\n",
      "3 1 21\n",
      "4 1 85\n",
      "5 1 341\n",
      "5 2 341\n",
      "4 2 85\n",
      "5 2 213\n",
      "5 3 213\n",
      "3 2 21\n",
      "4 2 53\n",
      "5 2 181\n",
      "5 3 181\n",
      "4 3 53\n",
      "5 3 309\n",
      "5 4 309\n",
      "2 2 5\n",
      "3 2 13\n",
      "4 2 45\n",
      "5 2 173\n",
      "5 3 173\n",
      "4 3 45\n",
      "5 3 301\n",
      "5 4 301\n",
      "3 3 13\n",
      "4 3 77\n",
      "5 3 333\n",
      "5 4 333\n",
      "4 4 77\n",
      "5 4 205\n",
      "5 5 205\n"
     ]
    },
    {
     "data": {
      "text/plain": [
       "341"
      ]
     },
     "execution_count": 20,
     "metadata": {},
     "output_type": "execute_result"
    }
   ],
   "source": [
    "path(triangles[1], 0, 0, 0)"
   ]
  },
  {
   "cell_type": "code",
   "execution_count": 46,
   "metadata": {},
   "outputs": [],
   "source": [
    "caches = [[-1 for x in range(len(triangles[0])+1)] for y in range(len(triangles[0])+1)]\n",
    "def path2(triangle, y,x):\n",
    "    if y == len(triangle)-1:\n",
    "        return int(triangle[y][x])\n",
    "    ret = caches[y][x]\n",
    "    if ret != -1:\n",
    "        return ret\n",
    "    ret = max(path2(triangle, y+1, x), path2(triangle, y+1, x+1)) + int(triangle[y][x])\n",
    "    return ret"
   ]
  },
  {
   "cell_type": "code",
   "execution_count": 47,
   "metadata": {},
   "outputs": [
    {
     "data": {
      "text/plain": [
       "(28,\n",
       " [['6'],\n",
       "  ['1', '2'],\n",
       "  ['3', '7', '4'],\n",
       "  ['9', '4', '1', '7'],\n",
       "  ['2', '7', '5', '9', '4']])"
      ]
     },
     "execution_count": 47,
     "metadata": {},
     "output_type": "execute_result"
    }
   ],
   "source": [
    "path2(triangles[0], 0,0), triangles[0]"
   ]
  },
  {
   "cell_type": "code",
   "execution_count": null,
   "metadata": {
    "collapsed": true
   },
   "outputs": [],
   "source": []
  }
 ],
 "metadata": {
  "kernelspec": {
   "display_name": "Python 3",
   "language": "python",
   "name": "python3"
  },
  "language_info": {
   "codemirror_mode": {
    "name": "ipython",
    "version": 3
   },
   "file_extension": ".py",
   "mimetype": "text/x-python",
   "name": "python",
   "nbconvert_exporter": "python",
   "pygments_lexer": "ipython3",
   "version": "3.6.1"
  }
 },
 "nbformat": 4,
 "nbformat_minor": 2
}
