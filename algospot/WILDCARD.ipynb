{
 "cells": [
  {
   "cell_type": "code",
   "execution_count": 1,
   "metadata": {
    "collapsed": true
   },
   "outputs": [],
   "source": [
    "test_cases_num = 3"
   ]
  },
  {
   "cell_type": "code",
   "execution_count": 11,
   "metadata": {},
   "outputs": [
    {
     "name": "stdout",
     "output_type": "stream",
     "text": [
      "WILDCARD:\n",
      "he?p\n",
      "FILE_COUNTS:\n",
      "3\n",
      "FILE_NAMES:\n",
      "help\n",
      "heap\n",
      "helpp\n",
      "WILDCARD:\n",
      "*P*\n",
      "FILE_COUNTS:\n",
      "3\n",
      "FILE_NAMES:\n",
      "help\n",
      "papa\n",
      "hello\n",
      "WILDCARD:\n",
      "*bb*\n",
      "FILE_COUNTS:\n",
      "1\n",
      "FILE_NAMES:\n",
      "babbbc\n"
     ]
    }
   ],
   "source": [
    "wildcards = []\n",
    "test_filenames = []\n",
    "for _ in range(int(test_cases_num)):\n",
    "    print('WILDCARD:')\n",
    "    wildcards.append(input())\n",
    "    print('FILE_COUNTS:')\n",
    "    file_name_counts = input()\n",
    "    print('FILE_NAMES:')\n",
    "    files = []\n",
    "    for _ in range(int(file_name_counts)):\n",
    "        files.append(input())\n",
    "    test_filenames.append(files)"
   ]
  },
  {
   "cell_type": "code",
   "execution_count": 19,
   "metadata": {},
   "outputs": [
    {
     "data": {
      "text/plain": [
       "['he?p', '*p*', '*bb*']"
      ]
     },
     "execution_count": 19,
     "metadata": {},
     "output_type": "execute_result"
    }
   ],
   "source": [
    "wildcards"
   ]
  },
  {
   "cell_type": "code",
   "execution_count": 20,
   "metadata": {},
   "outputs": [
    {
     "data": {
      "text/plain": [
       "[['help', 'heap', 'helpp'], ['help', 'papa', 'hello'], ['babbbc']]"
      ]
     },
     "execution_count": 20,
     "metadata": {},
     "output_type": "execute_result"
    }
   ],
   "source": [
    "test_filenames"
   ]
  },
  {
   "cell_type": "markdown",
   "metadata": {},
   "source": [
    "## 완전탐색이 가능하게끔 먼저 구축한다 How?"
   ]
  },
  {
   "cell_type": "code",
   "execution_count": 41,
   "metadata": {
    "collapsed": true
   },
   "outputs": [],
   "source": [
    "\n",
    "def check(name, wildcard):\n",
    "    pos = 0\n",
    "    while pos < len(name) and pos < len(wildcard) and (wildcard[pos] == '?' or wildcard[pos] == name[pos] ):\n",
    "        pos += 1\n",
    "    if pos == len(wildcard):\n",
    "        return pos == len(name)\n",
    "    if wildcard[pos] == '*':\n",
    "        for i in range(len(name)-pos+1):\n",
    "            if check(name[pos+i:],wildcard[pos+1:]):\n",
    "                return True\n",
    "    return False"
   ]
  },
  {
   "cell_type": "code",
   "execution_count": 42,
   "metadata": {},
   "outputs": [
    {
     "data": {
      "text/plain": [
       "('babbbc', '*bb*')"
      ]
     },
     "execution_count": 42,
     "metadata": {},
     "output_type": "execute_result"
    }
   ],
   "source": [
    "test_filenames[2][0], wildcards[2]"
   ]
  },
  {
   "cell_type": "code",
   "execution_count": 43,
   "metadata": {
    "scrolled": true
   },
   "outputs": [
    {
     "data": {
      "text/plain": [
       "True"
      ]
     },
     "execution_count": 43,
     "metadata": {},
     "output_type": "execute_result"
    }
   ],
   "source": [
    "check(test_filenames[2][0], wildcards[2])"
   ]
  },
  {
   "cell_type": "code",
   "execution_count": 44,
   "metadata": {
    "collapsed": true
   },
   "outputs": [],
   "source": [
    "dimension = 101\n",
    "caches = [[-1 for x in range(dimension)] for y in range(dimension)]"
   ]
  },
  {
   "cell_type": "code",
   "execution_count": 46,
   "metadata": {},
   "outputs": [],
   "source": [
    "W = wildcards[2]\n",
    "S = test_filenames[2][0]\n",
    "def check_memorized(w, s):\n",
    "    ret = caches[w][s]\n",
    "    if ret != -1:\n",
    "        return ret\n",
    "    while s < len(S) and w < len(W) and (W[w] == '?' or W[w] == S[s]):\n",
    "        w += 1\n",
    "        s += 1\n",
    "    if w == len(W):\n",
    "        ret = (s == len(S))\n",
    "        return ret\n",
    "    if W[w] == '*':\n",
    "        for i in range(len(S)-s+1):\n",
    "            if check_memorized(w+1, s+i):\n",
    "                return 1\n",
    "    ret = 0\n",
    "    return ret"
   ]
  },
  {
   "cell_type": "code",
   "execution_count": 47,
   "metadata": {},
   "outputs": [
    {
     "data": {
      "text/plain": [
       "1"
      ]
     },
     "execution_count": 47,
     "metadata": {},
     "output_type": "execute_result"
    }
   ],
   "source": [
    "check_memorized(0,0)"
   ]
  },
  {
   "cell_type": "code",
   "execution_count": null,
   "metadata": {
    "collapsed": true
   },
   "outputs": [],
   "source": []
  }
 ],
 "metadata": {
  "kernelspec": {
   "display_name": "Python 3",
   "language": "python",
   "name": "python3"
  },
  "language_info": {
   "codemirror_mode": {
    "name": "ipython",
    "version": 3
   },
   "file_extension": ".py",
   "mimetype": "text/x-python",
   "name": "python",
   "nbconvert_exporter": "python",
   "pygments_lexer": "ipython3",
   "version": "3.6.1"
  }
 },
 "nbformat": 4,
 "nbformat_minor": 2
}
