{
 "cells": [
  {
   "cell_type": "code",
   "execution_count": 1,
   "metadata": {},
   "outputs": [
    {
     "name": "stdout",
     "output_type": "stream",
     "text": [
      "4\n"
     ]
    }
   ],
   "source": [
    "test_cases_num = input()"
   ]
  },
  {
   "cell_type": "code",
   "execution_count": 2,
   "metadata": {},
   "outputs": [
    {
     "name": "stdout",
     "output_type": "stream",
     "text": [
      "w\n",
      "xbwwb\n",
      "xbwxwbbwb\n",
      "xxwwwbxwxwbbbwwxxxwwbbbwwwwbb\n"
     ]
    }
   ],
   "source": [
    "inputs = []\n",
    "for _ in range(int(test_cases_num)):\n",
    "    inputs.append(input())"
   ]
  },
  {
   "cell_type": "code",
   "execution_count": 3,
   "metadata": {},
   "outputs": [
    {
     "data": {
      "text/plain": [
       "['w', 'xbwwb', 'xbwxwbbwb', 'xxwwwbxwxwbbbwwxxxwwbbbwwwwbb']"
      ]
     },
     "execution_count": 3,
     "metadata": {},
     "output_type": "execute_result"
    }
   ],
   "source": [
    "inputs"
   ]
  },
  {
   "cell_type": "code",
   "execution_count": 36,
   "metadata": {
    "collapsed": true
   },
   "outputs": [],
   "source": [
    "def convert_quadtree(shape):\n",
    "    if len(shape) == 4:\n",
    "        return shape[2] + shape[3] + shape[0] + shape[1]\n",
    "    \n",
    "    result = ''\n",
    "    quads = []\n",
    "    try:\n",
    "        x_position = shape.index('x')\n",
    "        result += shape[:x_position] + 'x' + convert_quadtree(shape[x_position+1:])\n",
    "    except:\n",
    "        if len(shape) > 4:\n",
    "            result += convert_quadtree(shape[:4]) + convert_quadtree(shape[4:])\n",
    "        else:\n",
    "            result += shape\n",
    "        \n",
    "    return result"
   ]
  },
  {
   "cell_type": "code",
   "execution_count": 75,
   "metadata": {
    "collapsed": true
   },
   "outputs": [],
   "source": [
    "def convert_quadtree_list(shape):\n",
    "    quads = []\n",
    "    if len(shape) == 4:\n",
    "        quads = [shape[2], shape[3], shape[0], shape[1]]\n",
    "        return make_quad_to_string(quads)\n",
    "    \n",
    "    try:\n",
    "        x_position = shape.index('x')\n",
    "        quads += list(shape[:x_position])\n",
    "        quads.append(convert_quadtree_list(shape[x_position+1:]))\n",
    "    except:\n",
    "        if len(shape) > 4:\n",
    "            print('No X: length >4')\n",
    "            quads.append('x' + convert_quadtree_list(shape[:4]))\n",
    "            quads += list(shape[4:])\n",
    "        else:\n",
    "            print('No X: length <4')\n",
    "    return make_quad_to_string(quads)\n",
    "            "
   ]
  },
  {
   "cell_type": "code",
   "execution_count": null,
   "metadata": {
    "collapsed": true
   },
   "outputs": [],
   "source": [
    "def convert_quad(quads=[]):\n",
    "    if len(quads) == 4:\n",
    "        return [quads[2], quads[3], quads[0], quads[1]]\n",
    "    \n",
    "            "
   ]
  },
  {
   "cell_type": "code",
   "execution_count": 76,
   "metadata": {
    "collapsed": true
   },
   "outputs": [],
   "source": [
    "def main(letters):\n",
    "    quads = []\n",
    "    ## x 가 있는 경우 quad로 만들고, 그 아래로 나눈다.\n",
    "    try:\n",
    "        x_pos = letters.index('x')\n",
    "        quads += list[letters[:x_pos]] \n",
    "        quads += ['x' + main(letters[x_pos+1:])[:4]] + \n",
    "        \n",
    "    ## x 가 없는 경우 처리\n",
    "    except:\n",
    "        quads += \n",
    "        \n",
    "        "
   ]
  },
  {
   "cell_type": "code",
   "execution_count": 77,
   "metadata": {},
   "outputs": [
    {
     "name": "stdout",
     "output_type": "stream",
     "text": [
      "No X: length >4\n"
     ]
    },
    {
     "data": {
      "text/plain": [
       "'bwxbwwbb'"
      ]
     },
     "execution_count": 77,
     "metadata": {},
     "output_type": "execute_result"
    }
   ],
   "source": [
    "convert_quadtree_list(inputs[2])"
   ]
  },
  {
   "cell_type": "code",
   "execution_count": 78,
   "metadata": {
    "collapsed": true
   },
   "outputs": [],
   "source": [
    "ans= 'xxbwwbbbw'"
   ]
  },
  {
   "cell_type": "code",
   "execution_count": 79,
   "metadata": {
    "collapsed": true
   },
   "outputs": [],
   "source": [
    "a = ['1','2','3']"
   ]
  },
  {
   "cell_type": "code",
   "execution_count": 80,
   "metadata": {},
   "outputs": [
    {
     "data": {
      "text/plain": [
       "'123'"
      ]
     },
     "execution_count": 80,
     "metadata": {},
     "output_type": "execute_result"
    }
   ],
   "source": [
    "''.join(a)"
   ]
  },
  {
   "cell_type": "code",
   "execution_count": 81,
   "metadata": {
    "collapsed": true
   },
   "outputs": [],
   "source": [
    "a = [2]"
   ]
  },
  {
   "cell_type": "code",
   "execution_count": 82,
   "metadata": {
    "collapsed": true
   },
   "outputs": [],
   "source": [
    "b= [3]"
   ]
  },
  {
   "cell_type": "code",
   "execution_count": 83,
   "metadata": {},
   "outputs": [
    {
     "data": {
      "text/plain": [
       "[2, 3]"
      ]
     },
     "execution_count": 83,
     "metadata": {},
     "output_type": "execute_result"
    }
   ],
   "source": [
    "a + b"
   ]
  },
  {
   "cell_type": "code",
   "execution_count": 84,
   "metadata": {},
   "outputs": [
    {
     "data": {
      "text/plain": [
       "['w', 'xbwwb', 'xbwxwbbwb', 'xxwwwbxwxwbbbwwxxxwwbbbwwwwbb']"
      ]
     },
     "execution_count": 84,
     "metadata": {},
     "output_type": "execute_result"
    }
   ],
   "source": [
    "inputs"
   ]
  },
  {
   "cell_type": "code",
   "execution_count": null,
   "metadata": {
    "collapsed": true
   },
   "outputs": [],
   "source": [
    "def reverse(letter):\n",
    "    if letter == 'b' || letter == 'w':\n",
    "        return letter\n",
    "    else:\n",
    "        "
   ]
  },
  {
   "cell_type": "code",
   "execution_count": null,
   "metadata": {
    "collapsed": true
   },
   "outputs": [],
   "source": [
    "def main(letters):\n",
    "    for letter in letters:\n",
    "        if letter == 'b' || letter == 'w':\n",
    "            return letter\n",
    "        "
   ]
  }
 ],
 "metadata": {
  "kernelspec": {
   "display_name": "Python 3",
   "language": "python",
   "name": "python3"
  },
  "language_info": {
   "codemirror_mode": {
    "name": "ipython",
    "version": 3
   },
   "file_extension": ".py",
   "mimetype": "text/x-python",
   "name": "python",
   "nbconvert_exporter": "python",
   "pygments_lexer": "ipython3",
   "version": "3.6.1"
  }
 },
 "nbformat": 4,
 "nbformat_minor": 2
}
