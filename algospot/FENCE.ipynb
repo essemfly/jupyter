{
 "cells": [
  {
   "cell_type": "code",
   "execution_count": 1,
   "metadata": {},
   "outputs": [
    {
     "name": "stdout",
     "output_type": "stream",
     "text": [
      "3\n"
     ]
    }
   ],
   "source": [
    "test_cases_num = input()"
   ]
  },
  {
   "cell_type": "code",
   "execution_count": 2,
   "metadata": {},
   "outputs": [
    {
     "name": "stdout",
     "output_type": "stream",
     "text": [
      "7\n"
     ]
    }
   ],
   "source": [
    "bars_num = input()"
   ]
  },
  {
   "cell_type": "code",
   "execution_count": 3,
   "metadata": {
    "collapsed": true
   },
   "outputs": [],
   "source": [
    "bars = []"
   ]
  },
  {
   "cell_type": "code",
   "execution_count": 4,
   "metadata": {},
   "outputs": [
    {
     "name": "stdout",
     "output_type": "stream",
     "text": [
      "7\n",
      "1\n",
      "5\n",
      "9\n",
      "6\n",
      "7\n",
      "3\n"
     ]
    }
   ],
   "source": [
    "for i in range(int(bars_num)):\n",
    "    bars.append(input())"
   ]
  },
  {
   "cell_type": "code",
   "execution_count": 5,
   "metadata": {},
   "outputs": [
    {
     "data": {
      "text/plain": [
       "['7', '1', '5', '9', '6', '7', '3']"
      ]
     },
     "execution_count": 5,
     "metadata": {},
     "output_type": "execute_result"
    }
   ],
   "source": [
    "bars"
   ]
  },
  {
   "cell_type": "code",
   "execution_count": 8,
   "metadata": {
    "collapsed": true
   },
   "outputs": [],
   "source": [
    "bars = list(map(int, bars))"
   ]
  },
  {
   "cell_type": "code",
   "execution_count": 9,
   "metadata": {},
   "outputs": [
    {
     "data": {
      "text/plain": [
       "[7, 1, 5, 9, 6, 7, 3]"
      ]
     },
     "execution_count": 9,
     "metadata": {},
     "output_type": "execute_result"
    }
   ],
   "source": [
    "bars"
   ]
  },
  {
   "cell_type": "code",
   "execution_count": 42,
   "metadata": {
    "collapsed": true
   },
   "outputs": [],
   "source": [
    "bars2 = [1, 4, 4, 4, 4, 1, 1]\n",
    "bars3 = [1, 8, 2, 2]"
   ]
  },
  {
   "cell_type": "code",
   "execution_count": 45,
   "metadata": {},
   "outputs": [],
   "source": [
    "def main(bars):\n",
    "    max_area = -1\n",
    "    min_height = 0\n",
    "    for (idx, height) in enumerate(bars):\n",
    "        min_height = height\n",
    "        space_area = 0\n",
    "        for index in range(idx, len(bars)):\n",
    "            if bars[index] < min_height:\n",
    "                min_height = bars[index]\n",
    "            space_area = (index - idx + 1) * min_height\n",
    "            print(\"찍어봅시다\", idx, index, min_height, space_area)\n",
    "            if max_area < space_area:\n",
    "                max_area = space_area\n",
    "            \n",
    "    return max_area"
   ]
  },
  {
   "cell_type": "code",
   "execution_count": 44,
   "metadata": {},
   "outputs": [
    {
     "name": "stdout",
     "output_type": "stream",
     "text": [
      "찍어봅시다 0 0 1 1 1\n",
      "찍어봅시다 0 1 4 1 2\n",
      "찍어봅시다 0 2 4 1 3\n",
      "찍어봅시다 0 3 4 1 4\n",
      "찍어봅시다 0 4 4 1 5\n",
      "찍어봅시다 0 5 1 1 6\n",
      "찍어봅시다 0 6 1 1 7\n",
      "찍어봅시다 1 1 4 4 4\n",
      "찍어봅시다 1 2 4 4 8\n",
      "찍어봅시다 1 3 4 4 12\n",
      "찍어봅시다 1 4 4 4 16\n",
      "찍어봅시다 1 5 1 1 5\n",
      "찍어봅시다 1 6 1 1 6\n",
      "찍어봅시다 2 2 4 4 4\n",
      "찍어봅시다 2 3 4 4 8\n",
      "찍어봅시다 2 4 4 4 12\n",
      "찍어봅시다 2 5 1 1 4\n",
      "찍어봅시다 2 6 1 1 5\n",
      "찍어봅시다 3 3 4 4 4\n",
      "찍어봅시다 3 4 4 4 8\n",
      "찍어봅시다 3 5 1 1 3\n",
      "찍어봅시다 3 6 1 1 4\n",
      "찍어봅시다 4 4 4 4 4\n",
      "찍어봅시다 4 5 1 1 2\n",
      "찍어봅시다 4 6 1 1 3\n",
      "찍어봅시다 5 5 1 1 1\n",
      "찍어봅시다 5 6 1 1 2\n",
      "찍어봅시다 6 6 1 1 1\n"
     ]
    },
    {
     "data": {
      "text/plain": [
       "16"
      ]
     },
     "execution_count": 44,
     "metadata": {},
     "output_type": "execute_result"
    }
   ],
   "source": [
    "main(bars2)"
   ]
  },
  {
   "cell_type": "code",
   "execution_count": 27,
   "metadata": {},
   "outputs": [
    {
     "name": "stdout",
     "output_type": "stream",
     "text": [
      "찍어봅시다 2 0 1 1\n",
      "찍어봅시다 3 0 2 1\n",
      "찍어봅시다 4 0 3 1\n",
      "찍어봅시다 5 0 4 1\n",
      "찍어봅시다 6 0 5 1\n",
      "찍어봅시다 7 0 6 1\n",
      "찍어봅시다 2 1 2 1\n",
      "찍어봅시다 3 1 3 1\n",
      "찍어봅시다 4 1 4 1\n",
      "찍어봅시다 5 1 5 1\n",
      "찍어봅시다 6 1 6 1\n",
      "찍어봅시다 10 2 3 5\n",
      "찍어봅시다 15 2 4 5\n",
      "찍어봅시다 20 2 5 5\n",
      "찍어봅시다 15 2 6 3\n",
      "찍어봅시다 12 3 4 6\n",
      "찍어봅시다 18 3 5 6\n",
      "찍어봅시다 12 3 6 3\n",
      "찍어봅시다 12 4 5 6\n",
      "찍어봅시다 9 4 6 3\n",
      "찍어봅시다 6 5 6 3\n",
      "찍어봅시다 2 0 1 1\n",
      "찍어봅시다 3 0 2 1\n",
      "찍어봅시다 4 0 3 1\n",
      "찍어봅시다 5 0 4 1\n",
      "찍어봅시다 6 0 5 1\n",
      "찍어봅시다 8 1 2 4\n",
      "찍어봅시다 12 1 3 4\n",
      "찍어봅시다 4 1 4 1\n",
      "찍어봅시다 5 1 5 1\n",
      "찍어봅시다 8 2 3 4\n",
      "찍어봅시다 3 2 4 1\n",
      "찍어봅시다 4 2 5 1\n",
      "찍어봅시다 2 3 4 1\n",
      "찍어봅시다 3 3 5 1\n",
      "찍어봅시다 2 4 5 1\n",
      "찍어봅시다 2 0 1 1\n",
      "찍어봅시다 3 0 2 1\n",
      "찍어봅시다 4 0 3 1\n",
      "찍어봅시다 4 1 2 2\n",
      "찍어봅시다 6 1 3 2\n",
      "찍어봅시다 4 2 3 2\n"
     ]
    },
    {
     "data": {
      "text/plain": [
       "(20, 12, 6)"
      ]
     },
     "execution_count": 27,
     "metadata": {},
     "output_type": "execute_result"
    }
   ],
   "source": [
    "main(bars)"
   ]
  },
  {
   "cell_type": "code",
   "execution_count": 12,
   "metadata": {},
   "outputs": [
    {
     "data": {
      "text/plain": [
       "[7, 1, 5, 9, 6, 7, 3]"
      ]
     },
     "execution_count": 12,
     "metadata": {},
     "output_type": "execute_result"
    }
   ],
   "source": [
    "bars"
   ]
  },
  {
   "cell_type": "code",
   "execution_count": 67,
   "metadata": {
    "collapsed": true
   },
   "outputs": [],
   "source": [
    "def main_divide_conquer(left, right):\n",
    "    print('Left', left, ':Right', right)\n",
    "    if left == right:\n",
    "        return bars[int(left)]\n",
    "    \n",
    "    middle = int((left + right) / 2)\n",
    "\n",
    "    max_area = max(main_divide_conquer(left, middle), main_divide_conquer(middle+1, right))\n",
    "    \n",
    "    low = middle\n",
    "    high = middle+1\n",
    "    min_height = min(bars[low], bars[high])\n",
    "    max_area = max(max_area, min_height * 2)\n",
    "    while left < low or high < right:\n",
    "        if high < right and (low == left or bars[low-1] < bars[high+1]):\n",
    "            high += 1\n",
    "            min_height = min(min_height, bars[high])\n",
    "        else:\n",
    "            low -= 1\n",
    "            min_height = min(min_height, bars[low])\n",
    "        max_area = max(max_area, min_height * (high - low + 1))\n",
    "    \n",
    "    return max_area"
   ]
  },
  {
   "cell_type": "code",
   "execution_count": 68,
   "metadata": {},
   "outputs": [
    {
     "name": "stdout",
     "output_type": "stream",
     "text": [
      "Left 0 :Right 5\n",
      "Left 0 :Right 2\n",
      "Left 0 :Right 1\n",
      "Left 0 :Right 0\n",
      "Left 1 :Right 1\n",
      "Left 2 :Right 2\n",
      "Left 3 :Right 5\n",
      "Left 3 :Right 4\n",
      "Left 3 :Right 3\n",
      "Left 4 :Right 4\n",
      "Left 5 :Right 5\n"
     ]
    },
    {
     "data": {
      "text/plain": [
       "20"
      ]
     },
     "execution_count": 68,
     "metadata": {},
     "output_type": "execute_result"
    }
   ],
   "source": [
    "main_divide_conquer(0, 5)"
   ]
  },
  {
   "cell_type": "code",
   "execution_count": null,
   "metadata": {
    "collapsed": true
   },
   "outputs": [],
   "source": []
  }
 ],
 "metadata": {
  "kernelspec": {
   "display_name": "Python 3",
   "language": "python",
   "name": "python3"
  },
  "language_info": {
   "codemirror_mode": {
    "name": "ipython",
    "version": 3
   },
   "file_extension": ".py",
   "mimetype": "text/x-python",
   "name": "python",
   "nbconvert_exporter": "python",
   "pygments_lexer": "ipython3",
   "version": "3.6.1"
  }
 },
 "nbformat": 4,
 "nbformat_minor": 2
}
