{
 "cells": [
  {
   "cell_type": "code",
   "execution_count": 10,
   "metadata": {
    "collapsed": true
   },
   "outputs": [],
   "source": [
    "matrixes = [[2,5,1,6,1,4,1], [6,1,1,2,2,9,3], [7,2,3,2,1,3,1], [1,1,3,1,7,1,2], [4,1,2,3,4,1,2], [3,3,1,2,3,4,1], [1,5,2,9,4,7,-1]]"
   ]
  },
  {
   "cell_type": "code",
   "execution_count": 11,
   "metadata": {},
   "outputs": [
    {
     "data": {
      "text/plain": [
       "(5, 7)"
      ]
     },
     "execution_count": 11,
     "metadata": {},
     "output_type": "execute_result"
    }
   ],
   "source": [
    "matrixes[0][1], len(matrixes)"
   ]
  },
  {
   "cell_type": "code",
   "execution_count": 21,
   "metadata": {},
   "outputs": [],
   "source": [
    "def jump(y, x):\n",
    "    dimension = len(matrixes) \n",
    "    if y >= dimension or x >= dimension:\n",
    "        return False\n",
    "    if y == dimension-1 and x == dimension-1:\n",
    "        return True\n",
    "    \n",
    "    jump_size = matrixes[y][x]\n",
    "    return jump(y + jump_size, x) or jump(y, x + jump_size)\n",
    "        "
   ]
  },
  {
   "cell_type": "code",
   "execution_count": 22,
   "metadata": {},
   "outputs": [
    {
     "data": {
      "text/plain": [
       "[[2, 5, 1, 6, 1, 4, 1],\n",
       " [6, 1, 1, 2, 2, 9, 3],\n",
       " [7, 2, 3, 2, 1, 3, 1],\n",
       " [1, 1, 3, 1, 7, 1, 2],\n",
       " [4, 1, 2, 3, 4, 1, 2],\n",
       " [3, 3, 1, 2, 3, 4, 1],\n",
       " [1, 5, 2, 9, 4, 7, -1]]"
      ]
     },
     "execution_count": 22,
     "metadata": {},
     "output_type": "execute_result"
    }
   ],
   "source": [
    "matrixes"
   ]
  },
  {
   "cell_type": "code",
   "execution_count": 23,
   "metadata": {},
   "outputs": [
    {
     "data": {
      "text/plain": [
       "True"
      ]
     },
     "execution_count": 23,
     "metadata": {},
     "output_type": "execute_result"
    }
   ],
   "source": [
    "jump(0,0)"
   ]
  },
  {
   "cell_type": "code",
   "execution_count": 29,
   "metadata": {},
   "outputs": [],
   "source": [
    "dimension = len(matrixes) \n",
    "caches = [[-1 for x in range(dimension)] for y in range(dimension)]\n",
    "def jump2(y,x):\n",
    "\n",
    "    if y >= dimension or x >= dimension:\n",
    "        return 0\n",
    "    if y == dimension-1 and x == dimension-1:\n",
    "        return 1\n",
    "    ret = caches[y][x]\n",
    "    if ret != -1:\n",
    "        return ret\n",
    "    jump_size = matrixes[y][x]\n",
    "    return jump(y + jump_size, x) or jump(y, x + jump_size)"
   ]
  },
  {
   "cell_type": "code",
   "execution_count": 30,
   "metadata": {},
   "outputs": [
    {
     "data": {
      "text/plain": [
       "True"
      ]
     },
     "execution_count": 30,
     "metadata": {},
     "output_type": "execute_result"
    }
   ],
   "source": [
    "jump2(0,0)"
   ]
  },
  {
   "cell_type": "code",
   "execution_count": null,
   "metadata": {
    "collapsed": true
   },
   "outputs": [],
   "source": []
  }
 ],
 "metadata": {
  "kernelspec": {
   "display_name": "Python 3",
   "language": "python",
   "name": "python3"
  },
  "language_info": {
   "codemirror_mode": {
    "name": "ipython",
    "version": 3
   },
   "file_extension": ".py",
   "mimetype": "text/x-python",
   "name": "python",
   "nbconvert_exporter": "python",
   "pygments_lexer": "ipython3",
   "version": "3.6.1"
  }
 },
 "nbformat": 4,
 "nbformat_minor": 2
}
