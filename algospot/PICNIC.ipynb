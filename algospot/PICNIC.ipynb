{
 "cells": [
  {
   "cell_type": "code",
   "execution_count": 5,
   "metadata": {},
   "outputs": [
    {
     "name": "stdout",
     "output_type": "stream",
     "text": [
      "3\n"
     ]
    }
   ],
   "source": [
    "test_cases_counts = input()"
   ]
  },
  {
   "cell_type": "code",
   "execution_count": 11,
   "metadata": {},
   "outputs": [],
   "source": [
    "student_counts = [] \n",
    "pair_counts = []"
   ]
  },
  {
   "cell_type": "code",
   "execution_count": 12,
   "metadata": {},
   "outputs": [
    {
     "name": "stdout",
     "output_type": "stream",
     "text": [
      "2\n",
      "1\n",
      "4\n",
      "6\n",
      "6\n",
      "10\n"
     ]
    }
   ],
   "source": [
    "for _ in range(int(test_cases_counts)):\n",
    "    student_counts.append(input())\n",
    "    pair_counts.append(input())"
   ]
  },
  {
   "cell_type": "code",
   "execution_count": 13,
   "metadata": {
    "scrolled": true
   },
   "outputs": [
    {
     "data": {
      "text/plain": [
       "(['2', '4', '6'], ['1', '6', '10'])"
      ]
     },
     "execution_count": 13,
     "metadata": {},
     "output_type": "execute_result"
    }
   ],
   "source": [
    "student_counts, pair_counts"
   ]
  },
  {
   "cell_type": "code",
   "execution_count": 14,
   "metadata": {
    "collapsed": true
   },
   "outputs": [],
   "source": [
    "pairs = []"
   ]
  },
  {
   "cell_type": "code",
   "execution_count": 15,
   "metadata": {},
   "outputs": [
    {
     "name": "stdout",
     "output_type": "stream",
     "text": [
      "0 1\n",
      "0 1 1 2 2 3 3 0 0 2 1 3\n",
      "0 1 0 2 1 2 1 3 1 4 2 3 2 4 3 4 3 5 4 5\n"
     ]
    }
   ],
   "source": [
    "for _ in range(int(test_cases_counts)):\n",
    "    pairs.append(input())"
   ]
  },
  {
   "cell_type": "code",
   "execution_count": 16,
   "metadata": {},
   "outputs": [
    {
     "data": {
      "text/plain": [
       "['0 1', '0 1 1 2 2 3 3 0 0 2 1 3', '0 1 0 2 1 2 1 3 1 4 2 3 2 4 3 4 3 5 4 5']"
      ]
     },
     "execution_count": 16,
     "metadata": {},
     "output_type": "execute_result"
    }
   ],
   "source": [
    "pairs"
   ]
  },
  {
   "cell_type": "code",
   "execution_count": 19,
   "metadata": {},
   "outputs": [
    {
     "data": {
      "text/plain": [
       "['0', '1', '1', '2', '2', '3', '3', '0', '0', '2', '1', '3']"
      ]
     },
     "execution_count": 19,
     "metadata": {},
     "output_type": "execute_result"
    }
   ],
   "source": [
    "pairs[1].split(\" \")"
   ]
  },
  {
   "cell_type": "code",
   "execution_count": 90,
   "metadata": {
    "collapsed": true
   },
   "outputs": [],
   "source": [
    "def make_pair_lists(pair_counts, origin_pair):\n",
    "    rearrange_pairs = []\n",
    "    new_pairs = origin_pair.split(\" \")\n",
    "    for i in range(int(pair_counts)):\n",
    "        rearrange_pairs.append([new_pairs[2*i], new_pairs[2*i+1]])\n",
    "    return rearrange_pairs"
   ]
  },
  {
   "cell_type": "code",
   "execution_count": 131,
   "metadata": {
    "collapsed": true
   },
   "outputs": [],
   "source": [
    "def make_couples(student_counts, pair_counts, pairs):\n",
    "    ans = 0\n",
    "    if student_counts == 2:\n",
    "        if pair_counts == 1:\n",
    "            return 1\n",
    "        else:\n",
    "            return 0\n",
    "        \n",
    "    if type(pairs) != list: \n",
    "        rearrange_pairs = make_pair_lists(pair_counts, pairs)\n",
    "    else:\n",
    "        rearrange_pairs = pairs\n",
    "   \n",
    "    for pair in rearrange_pairs:\n",
    "        remained_pairs = list(filter(lambda x: pair[0] not in x and pair[1] not in x, rearrange_pairs))\n",
    "        ans += make_couples(int(student_counts)-2, len(remained_pairs), remained_pairs)\n",
    "    return ans\n",
    "\n",
    "        "
   ]
  },
  {
   "cell_type": "code",
   "execution_count": 132,
   "metadata": {},
   "outputs": [
    {
     "data": {
      "text/plain": [
       "('6', '10', '0 1 0 2 1 2 1 3 1 4 2 3 2 4 3 4 3 5 4 5')"
      ]
     },
     "execution_count": 132,
     "metadata": {},
     "output_type": "execute_result"
    }
   ],
   "source": [
    "student_counts[2], pair_counts[2], pairs[2]"
   ]
  },
  {
   "cell_type": "code",
   "execution_count": 135,
   "metadata": {
    "scrolled": true
   },
   "outputs": [],
   "source": [
    "answers = make_couples(student_counts[1], pair_counts[1], pairs[1])"
   ]
  },
  {
   "cell_type": "code",
   "execution_count": 137,
   "metadata": {},
   "outputs": [
    {
     "data": {
      "text/plain": [
       "3.0"
      ]
     },
     "execution_count": 137,
     "metadata": {},
     "output_type": "execute_result"
    }
   ],
   "source": [
    "answers / 2"
   ]
  },
  {
   "cell_type": "code",
   "execution_count": null,
   "metadata": {
    "collapsed": true
   },
   "outputs": [],
   "source": []
  }
 ],
 "metadata": {
  "kernelspec": {
   "display_name": "Python 3",
   "language": "python",
   "name": "python3"
  },
  "language_info": {
   "codemirror_mode": {
    "name": "ipython",
    "version": 3
   },
   "file_extension": ".py",
   "mimetype": "text/x-python",
   "name": "python",
   "nbconvert_exporter": "python",
   "pygments_lexer": "ipython3",
   "version": "3.6.1"
  }
 },
 "nbformat": 4,
 "nbformat_minor": 2
}
