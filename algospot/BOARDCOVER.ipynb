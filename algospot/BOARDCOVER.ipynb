{
 "cells": [
  {
   "cell_type": "code",
   "execution_count": 5,
   "metadata": {},
   "outputs": [
    {
     "name": "stdout",
     "output_type": "stream",
     "text": [
      "3\n"
     ]
    }
   ],
   "source": [
    "test_cases_num = input()"
   ]
  },
  {
   "cell_type": "code",
   "execution_count": 7,
   "metadata": {
    "scrolled": true
   },
   "outputs": [
    {
     "name": "stdout",
     "output_type": "stream",
     "text": [
      "3 7\n",
      "#.....#\n",
      "#.....#\n",
      "##...##\n",
      "3 7\n",
      "#.....#\n",
      "#.....#\n",
      "##..###\n",
      "8 10\n",
      "##########\n",
      "#........#\n",
      "#........#\n",
      "#........#\n",
      "#........#\n",
      "#........#\n",
      "#........#\n",
      "##########\n"
     ]
    }
   ],
   "source": [
    "boards = []\n",
    "for i in range(int(test_cases_num)):\n",
    "    height, weight = input().split(\" \")\n",
    "    board = []\n",
    "    for _ in range(int(height)):\n",
    "        board.append(input())\n",
    "    boards.append(board)"
   ]
  },
  {
   "cell_type": "code",
   "execution_count": 8,
   "metadata": {},
   "outputs": [
    {
     "data": {
      "text/plain": [
       "[['#.....#', '#.....#', '##...##'],\n",
       " ['#.....#', '#.....#', '##..###'],\n",
       " ['##########',\n",
       "  '#........#',\n",
       "  '#........#',\n",
       "  '#........#',\n",
       "  '#........#',\n",
       "  '#........#',\n",
       "  '#........#',\n",
       "  '##########']]"
      ]
     },
     "execution_count": 8,
     "metadata": {},
     "output_type": "execute_result"
    }
   ],
   "source": [
    "boards"
   ]
  },
  {
   "cell_type": "code",
   "execution_count": 9,
   "metadata": {
    "collapsed": true
   },
   "outputs": [],
   "source": [
    "def get_starting_point(board):\n",
    "    starting_point = (-1,-1)\n",
    "    for i in range(len(board)):\n",
    "        j = board[i].find('.')\n",
    "        if j > -1:\n",
    "            starting_point = (i,j)\n",
    "            break\n",
    "    return starting_point"
   ]
  },
  {
   "cell_type": "code",
   "execution_count": 10,
   "metadata": {
    "scrolled": true
   },
   "outputs": [
    {
     "data": {
      "text/plain": [
       "(1, 1)"
      ]
     },
     "execution_count": 10,
     "metadata": {},
     "output_type": "execute_result"
    }
   ],
   "source": [
    "get_starting_point(boards[2])"
   ]
  },
  {
   "cell_type": "code",
   "execution_count": 11,
   "metadata": {
    "collapsed": true
   },
   "outputs": [],
   "source": [
    "i, j = get_starting_point(boards[2])"
   ]
  },
  {
   "cell_type": "code",
   "execution_count": 12,
   "metadata": {
    "collapsed": true
   },
   "outputs": [],
   "source": [
    "def check_all_checked(board):\n",
    "    height = len(board)\n",
    "    width = len(board[0])\n",
    "    all_checked = False\n",
    "    empty_nums = 0\n",
    "    for i in range(height):\n",
    "        for j in range(width):\n",
    "            if board[i][j] == '.':\n",
    "                empty_nums += 1\n",
    "    print(empty_nums)\n",
    "    if empty_nums == 0:\n",
    "        return 1\n",
    "    if empty_nums % 3 != 0:\n",
    "\n",
    "        return -1\n",
    "    else:\n",
    "        return 0"
   ]
  },
  {
   "cell_type": "code",
   "execution_count": 20,
   "metadata": {
    "collapsed": true
   },
   "outputs": [],
   "source": [
    "def solve(board):\n",
    "    ret = 0\n",
    "\n",
    "    ### 초기관련, 게임을 끝내는 방법들에 대해서\n",
    "    check_point = check_all_checked(board)\n",
    "    if check_point == 1:\n",
    "        ret += 1\n",
    "        print('Good-------------------------------------------------------------------------', ret)\n",
    "        return ret\n",
    "    elif check_point == -1:\n",
    "        print('BAD-------------------------------------------------------------------------')\n",
    "        return 0\n",
    "    else:\n",
    "        print('ING-------------------------------------------------------------------------')\n",
    "        ### 가장 위에 가장 왼쪽에 지점을 가져온다.\n",
    "        i, j = get_starting_point(board)\n",
    "        print('i,j 좌표:', i, j)\n",
    "        candidates = [[(i,j), (i+1, j+1), (i+1, j)], [(i,j), (i+1, j+1), (i, j+1)], [(i,j), (i, j+1), (i+1, j)], [(i,j), (i+1, j-1), (i+1, j)]]\n",
    "        for candidate in candidates: ### 네개 각각 따로따로\n",
    "            print('캔디데이트 4개 돈다')\n",
    "            new_board = board\n",
    "            candidate_okay = True\n",
    "            for point in candidate: ### 각각 따로따로 중 3개의 지점을 이야기\n",
    "                print('포인트 3개돈다: i,j', i,j)\n",
    "                if board[point[0]][point[1]] == '#':\n",
    "                    print('실패 ㅜㅜ')\n",
    "                    candidate_okay= False\n",
    "                    break\n",
    "            if candidate_okay:\n",
    "                print('캔디데이트 성공 -> 들어갈 수 있다.')\n",
    "                new_board[point[0]]\n",
    "                for point in candidate:\n",
    "                    point_line_list = list(new_board[point[0]])\n",
    "                    point_line_list[point[1]] = '#'\n",
    "                    new_board[point[0]] = ''.join(point_line_list)\n",
    "                \n",
    "                print('보드 모양')\n",
    "                for i in range(8):\n",
    "                    print(new_board[i])\n",
    "                ret += solve(new_board)\n",
    "            else:\n",
    "                return 0\n",
    "    return ret"
   ]
  },
  {
   "cell_type": "code",
   "execution_count": 21,
   "metadata": {},
   "outputs": [
    {
     "name": "stdout",
     "output_type": "stream",
     "text": [
      "48\n",
      "ING-------------------------------------------------------------------------\n",
      "i,j 좌표: 1 1\n",
      "캔디데이트 4개 돈다\n",
      "포인트 3개돈다: i,j 1 1\n",
      "포인트 3개돈다: i,j 1 1\n",
      "포인트 3개돈다: i,j 1 1\n",
      "캔디데이트 성공 -> 들어갈 수 있다.\n",
      "보드 모양\n",
      "##########\n",
      "##.......#\n",
      "###......#\n",
      "#........#\n",
      "#........#\n",
      "#........#\n",
      "#........#\n",
      "##########\n",
      "45\n",
      "ING-------------------------------------------------------------------------\n",
      "i,j 좌표: 1 2\n",
      "캔디데이트 4개 돈다\n",
      "포인트 3개돈다: i,j 1 2\n",
      "포인트 3개돈다: i,j 1 2\n",
      "포인트 3개돈다: i,j 1 2\n",
      "실패 ㅜㅜ\n",
      "캔디데이트 4개 돈다\n",
      "포인트 3개돈다: i,j 7 1\n",
      "실패 ㅜㅜ\n"
     ]
    }
   ],
   "source": [
    "result = solve(boards[2])"
   ]
  },
  {
   "cell_type": "code",
   "execution_count": 15,
   "metadata": {},
   "outputs": [
    {
     "data": {
      "text/plain": [
       "0"
      ]
     },
     "execution_count": 15,
     "metadata": {},
     "output_type": "execute_result"
    }
   ],
   "source": [
    "result"
   ]
  },
  {
   "cell_type": "code",
   "execution_count": 18,
   "metadata": {},
   "outputs": [],
   "source": [
    "boards[2][1] = '#........#'\n",
    "boards[2][2] = '#........#'\n",
    "boards[2][3] = '#........#'"
   ]
  },
  {
   "cell_type": "code",
   "execution_count": 19,
   "metadata": {},
   "outputs": [
    {
     "data": {
      "text/plain": [
       "['##########',\n",
       " '#........#',\n",
       " '#........#',\n",
       " '#........#',\n",
       " '#........#',\n",
       " '#........#',\n",
       " '#........#',\n",
       " '##########']"
      ]
     },
     "execution_count": 19,
     "metadata": {},
     "output_type": "execute_result"
    }
   ],
   "source": [
    "boards[2]"
   ]
  },
  {
   "cell_type": "code",
   "execution_count": null,
   "metadata": {},
   "outputs": [],
   "source": []
  }
 ],
 "metadata": {
  "kernelspec": {
   "display_name": "Python 3",
   "language": "python",
   "name": "python3"
  },
  "language_info": {
   "codemirror_mode": {
    "name": "ipython",
    "version": 3
   },
   "file_extension": ".py",
   "mimetype": "text/x-python",
   "name": "python",
   "nbconvert_exporter": "python",
   "pygments_lexer": "ipython3",
   "version": "3.6.1"
  }
 },
 "nbformat": 4,
 "nbformat_minor": 2
}
