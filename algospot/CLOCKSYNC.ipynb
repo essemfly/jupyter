{
 "cells": [
  {
   "cell_type": "code",
   "execution_count": 1,
   "metadata": {},
   "outputs": [
    {
     "name": "stdout",
     "output_type": "stream",
     "text": [
      "2\n"
     ]
    }
   ],
   "source": [
    "test_cases_num = input()"
   ]
  },
  {
   "cell_type": "code",
   "execution_count": 2,
   "metadata": {},
   "outputs": [
    {
     "name": "stdout",
     "output_type": "stream",
     "text": [
      "12 6 6 6 6 6 12 12 12 12 12 12 12 12 12 12\n",
      "12 9 3 12 6 6 9 3 12 9 12 9 12 12 6 6 \n"
     ]
    }
   ],
   "source": [
    "clocks_cases = []\n",
    "for _ in range(int(test_cases_num)):\n",
    "    clocks_cases.append(input())"
   ]
  },
  {
   "cell_type": "code",
   "execution_count": 7,
   "metadata": {},
   "outputs": [],
   "source": [
    "clocks = []\n",
    "for case in clocks_cases:\n",
    "    clocks.append(case.split(\" \"))"
   ]
  },
  {
   "cell_type": "code",
   "execution_count": 8,
   "metadata": {},
   "outputs": [
    {
     "data": {
      "text/plain": [
       "[['12',\n",
       "  '6',\n",
       "  '6',\n",
       "  '6',\n",
       "  '6',\n",
       "  '6',\n",
       "  '12',\n",
       "  '12',\n",
       "  '12',\n",
       "  '12',\n",
       "  '12',\n",
       "  '12',\n",
       "  '12',\n",
       "  '12',\n",
       "  '12',\n",
       "  '12'],\n",
       " ['12',\n",
       "  '9',\n",
       "  '3',\n",
       "  '12',\n",
       "  '6',\n",
       "  '6',\n",
       "  '9',\n",
       "  '3',\n",
       "  '12',\n",
       "  '9',\n",
       "  '12',\n",
       "  '9',\n",
       "  '12',\n",
       "  '12',\n",
       "  '6',\n",
       "  '6',\n",
       "  '']]"
      ]
     },
     "execution_count": 8,
     "metadata": {},
     "output_type": "execute_result"
    }
   ],
   "source": [
    "clocks"
   ]
  },
  {
   "cell_type": "code",
   "execution_count": 15,
   "metadata": {},
   "outputs": [
    {
     "data": {
      "text/plain": [
       "16"
      ]
     },
     "execution_count": 15,
     "metadata": {},
     "output_type": "execute_result"
    }
   ],
   "source": [
    "len(clocks[1])"
   ]
  },
  {
   "cell_type": "code",
   "execution_count": 17,
   "metadata": {
    "collapsed": true
   },
   "outputs": [],
   "source": [
    "switches = [\n",
    "    [1,1,1,0,0,0,0,0,0,0,0,0,0,0,0,0],\n",
    "    [0,0,0,1,0,0,0,1,0,1,0,1,0,0,0,0],\n",
    "    [0,0,0,0,1,0,0,0,0,0,1,0,0,0,1,1],\n",
    "    [1,0,0,0,1,1,1,1,0,0,0,0,0,0,0,0],\n",
    "    [0,0,0,0,0,0,1,1,1,0,1,0,1,0,0,0],\n",
    "    [1,0,1,0,0,0,0,0,0,0,0,0,0,0,1,1],\n",
    "    [0,0,0,1,0,0,0,0,0,0,0,0,0,0,1,1],\n",
    "    [0,0,0,0,1,1,0,1,0,0,0,0,0,0,1,1],\n",
    "    [0,1,1,1,1,1,0,0,0,0,0,0,0,0,0,0],\n",
    "    [0,0,0,1,1,1,0,0,0,1,0,0,0,1,0,0]\n",
    "]"
   ]
  },
  {
   "cell_type": "code",
   "execution_count": 18,
   "metadata": {},
   "outputs": [
    {
     "data": {
      "text/plain": [
       "10"
      ]
     },
     "execution_count": 18,
     "metadata": {},
     "output_type": "execute_result"
    }
   ],
   "source": [
    "len(switches)"
   ]
  },
  {
   "cell_type": "code",
   "execution_count": 22,
   "metadata": {},
   "outputs": [
    {
     "data": {
      "text/plain": [
       "['12',\n",
       " '6',\n",
       " '6',\n",
       " '6',\n",
       " '6',\n",
       " '6',\n",
       " '12',\n",
       " '12',\n",
       " '12',\n",
       " '12',\n",
       " '12',\n",
       " '12',\n",
       " '12',\n",
       " '12',\n",
       " '12',\n",
       " '12']"
      ]
     },
     "execution_count": 22,
     "metadata": {},
     "output_type": "execute_result"
    }
   ],
   "source": [
    "clocks[0]"
   ]
  },
  {
   "cell_type": "code",
   "execution_count": 33,
   "metadata": {},
   "outputs": [],
   "source": [
    "first_draft = [int(x)/3 % 4 for x in clocks[0]]\n",
    "second_draft = [int(x)/3 % 4 for x in clocks[1]]"
   ]
  },
  {
   "cell_type": "code",
   "execution_count": 34,
   "metadata": {},
   "outputs": [
    {
     "data": {
      "text/plain": [
       "([0.0,\n",
       "  2.0,\n",
       "  2.0,\n",
       "  2.0,\n",
       "  2.0,\n",
       "  2.0,\n",
       "  0.0,\n",
       "  0.0,\n",
       "  0.0,\n",
       "  0.0,\n",
       "  0.0,\n",
       "  0.0,\n",
       "  0.0,\n",
       "  0.0,\n",
       "  0.0,\n",
       "  0.0],\n",
       " [0.0,\n",
       "  3.0,\n",
       "  1.0,\n",
       "  0.0,\n",
       "  2.0,\n",
       "  2.0,\n",
       "  3.0,\n",
       "  1.0,\n",
       "  0.0,\n",
       "  3.0,\n",
       "  0.0,\n",
       "  3.0,\n",
       "  0.0,\n",
       "  0.0,\n",
       "  2.0,\n",
       "  2.0])"
      ]
     },
     "execution_count": 34,
     "metadata": {},
     "output_type": "execute_result"
    }
   ],
   "source": [
    "first_draft, second_draft"
   ]
  },
  {
   "cell_type": "code",
   "execution_count": 27,
   "metadata": {
    "collapsed": true
   },
   "outputs": [],
   "source": [
    "def shortest_operations(clocks, number_operations):\n",
    "    if number_operations > 30:\n",
    "        return 99999999;\n",
    "    if sum(clocks) == 0:\n",
    "        return number_operations\n",
    "    \n",
    "    for switch in switches:\n",
    "        raw_new_clocks = clocks + switch\n",
    "        new_clocks = [entry % 4 for entry in raw_new_clocks]\n",
    "        print('my new clocks', new_clocks)\n",
    "        clock_after_operation = shortest_operations(new_clocks, number_operations + 1)\n",
    "        num_operations = min(num_operations, clock_after_operation)\n",
    "    return num_operations"
   ]
  },
  {
   "cell_type": "code",
   "execution_count": 35,
   "metadata": {},
   "outputs": [
    {
     "data": {
      "text/plain": [
       "['12',\n",
       " '6',\n",
       " '6',\n",
       " '6',\n",
       " '6',\n",
       " '6',\n",
       " '12',\n",
       " '12',\n",
       " '12',\n",
       " '12',\n",
       " '12',\n",
       " '12',\n",
       " '12',\n",
       " '12',\n",
       " '12',\n",
       " '12']"
      ]
     },
     "execution_count": 35,
     "metadata": {},
     "output_type": "execute_result"
    }
   ],
   "source": [
    "clocks[0]"
   ]
  },
  {
   "cell_type": "code",
   "execution_count": 40,
   "metadata": {},
   "outputs": [
    {
     "data": {
      "text/plain": [
       "[0.0,\n",
       " 2.0,\n",
       " 2.0,\n",
       " 2.0,\n",
       " 2.0,\n",
       " 2.0,\n",
       " 0.0,\n",
       " 0.0,\n",
       " 0.0,\n",
       " 0.0,\n",
       " 0.0,\n",
       " 0.0,\n",
       " 0.0,\n",
       " 0.0,\n",
       " 0.0,\n",
       " 0.0]"
      ]
     },
     "execution_count": 40,
     "metadata": {},
     "output_type": "execute_result"
    }
   ],
   "source": [
    "[entry%4 for entry in first_draft]"
   ]
  },
  {
   "cell_type": "code",
   "execution_count": 41,
   "metadata": {},
   "outputs": [
    {
     "data": {
      "text/plain": [
       "10.0"
      ]
     },
     "execution_count": 41,
     "metadata": {},
     "output_type": "execute_result"
    }
   ],
   "source": [
    "sum(first_draft)"
   ]
  },
  {
   "cell_type": "code",
   "execution_count": null,
   "metadata": {
    "collapsed": true
   },
   "outputs": [],
   "source": []
  }
 ],
 "metadata": {
  "kernelspec": {
   "display_name": "Python 3",
   "language": "python",
   "name": "python3"
  },
  "language_info": {
   "codemirror_mode": {
    "name": "ipython",
    "version": 3
   },
   "file_extension": ".py",
   "mimetype": "text/x-python",
   "name": "python",
   "nbconvert_exporter": "python",
   "pygments_lexer": "ipython3",
   "version": "3.6.1"
  }
 },
 "nbformat": 4,
 "nbformat_minor": 2
}
