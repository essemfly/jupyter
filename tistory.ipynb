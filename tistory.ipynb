{
 "cells": [
  {
   "cell_type": "code",
   "execution_count": 119,
   "metadata": {},
   "outputs": [],
   "source": [
    "import requests\n",
    "import webbrowser\n",
    "import json"
   ]
  },
  {
   "cell_type": "code",
   "execution_count": 75,
   "metadata": {},
   "outputs": [],
   "source": [
    "client_id = \"e0802e95a17f8db9758b2911056fdeee\"\n",
    "secret_key = \"f30cfcd9fef91adb4f0dc9f491187d2dfc902acb04fd0ee42292904c715ce099cdff8c47\"\n",
    "callback_url = \"http://localhost\"\n",
    "\n",
    "url = \\\n",
    "\"https://www.tistory.com/oauth/authorize?\\\n",
    "client_id=%s&\\\n",
    "redirect_uri=%s&\\\n",
    "response_type=token\" %(client_id, callback_url)\n"
   ]
  },
  {
   "cell_type": "code",
   "execution_count": 76,
   "metadata": {
    "scrolled": false
   },
   "outputs": [
    {
     "data": {
      "text/plain": [
       "'https://www.tistory.com/oauth/authorize?client_id=e0802e95a17f8db9758b2911056fdeee&redirect_uri=http://localhost&response_type=token'"
      ]
     },
     "execution_count": 76,
     "metadata": {},
     "output_type": "execute_result"
    }
   ],
   "source": [
    "url"
   ]
  },
  {
   "cell_type": "code",
   "execution_count": 77,
   "metadata": {
    "scrolled": true
   },
   "outputs": [
    {
     "data": {
      "text/plain": [
       "True"
      ]
     },
     "execution_count": 77,
     "metadata": {},
     "output_type": "execute_result"
    }
   ],
   "source": [
    "webbrowser.open(url)"
   ]
  },
  {
   "cell_type": "code",
   "execution_count": 110,
   "metadata": {},
   "outputs": [],
   "source": [
    "access_token = \"23ac27cd390fbf35435e00afc3b4d650_753a12ab19ac5c01404da50df5dfddb4\""
   ]
  },
  {
   "cell_type": "code",
   "execution_count": 111,
   "metadata": {},
   "outputs": [],
   "source": [
    "class Tistory:\n",
    "    base_url = \"https://www.tistory.com/apis\"\n",
    "    blog_name = \"essems\"\n",
    "    \n",
    "    def __init__(self, access_token):\n",
    "        self._access_token = access_token\n",
    "        \n",
    "    def get_posts_list(self, page):\n",
    "        url = \"%s/post/list?access_token=%s&output=json&blogName=%s&page=%i\"\\\n",
    "        %(self.base_url, self._access_token, self.blog_name, page)\n",
    "        return requests.get(url).json()\n",
    "    \n",
    "    def read_post(self, post_id):\n",
    "        url = \"%s/post/read?access_token=%s&output=json&blogName=%s&postId=%i\"\\\n",
    "        %(self.base_url, self._access_token, self.blog_name, post_id)\n",
    "        return requests.get(url).json()"
   ]
  },
  {
   "cell_type": "code",
   "execution_count": 112,
   "metadata": {},
   "outputs": [],
   "source": [
    "essems = Tistory(access_token)"
   ]
  },
  {
   "cell_type": "code",
   "execution_count": 122,
   "metadata": {},
   "outputs": [],
   "source": [
    "result = essems.read_post(301)"
   ]
  },
  {
   "cell_type": "code",
   "execution_count": 139,
   "metadata": {},
   "outputs": [],
   "source": [
    "item = result[\"tistory\"][\"item\"]"
   ]
  },
  {
   "cell_type": "code",
   "execution_count": 143,
   "metadata": {},
   "outputs": [
    {
     "data": {
      "text/plain": [
       "'<div style=\"font-family:\\'Helvetica Neue\\';font-size:14px;\">프로이트, 융, 그리고 알프레드 아들러\\n</div><div style=\"font-family:\\'Helvetica Neue\\';font-size:14px;\">1장밖에 읽지 않았지만,\\n</div><div style=\"font-family:\\'Helvetica Neue\\';font-size:14px;\">프로이트의 원인론을 정면으로 반박하면서\\n</div><div style=\"font-family:\\'Helvetica Neue\\';font-size:14px;\">아들러가 제시하고 있는 목적론에 대해서 이야기한다.\\n</div><div style=\"font-family:\\'Helvetica Neue\\';font-size:14px;\"><br /></div><div style=\"font-family:\\'Helvetica Neue\\';font-size:14px;\">과거에 인간이 이랬기 때문에 나는 지금 이런 것이다라는 주장을\\n</div><div style=\"font-family:\\'Helvetica Neue\\';font-size:14px;\">인간은 바뀌지 못한다는 마음을 먹고 있어서, 사실 너는 바뀔 생각이 없다 하는\\n</div><div style=\"font-family:\\'Helvetica Neue\\';font-size:14px;\">목적론을 통해서 이야기한다.\\n</div><div style=\"font-family:\\'Helvetica Neue\\';font-size:14px;\"><br /></div><div style=\"font-family:\\'Helvetica Neue\\';font-size:14px;\">누군가가 되고싶고, 누군가로 닮고 싶고\\n</div><div style=\"font-family:\\'Helvetica Neue\\';font-size:14px;\">과거를 부정하고 싶고, 다시 살고 싶고&nbsp;\\n</div><div style=\"font-family:\\'Helvetica Neue\\';font-size:14px;\"><br /></div><div style=\"font-family:\\'Helvetica Neue\\';font-size:14px;\">과거는 과거일 뿐, 너가 나갈 앞날은 과거하고 관련이 없다.\\n</div><div style=\"font-family:\\'Helvetica Neue\\';font-size:14px;\"><br /></div><div style=\"font-family:\\'Helvetica Neue\\';font-size:14px;\">나 또한 세상을 내가 마음먹은대로, 앞으로는 내가 바라보고자 하는 방향으로 바뀔 수 있다 생각하지만\\n</div><div style=\"font-family:\\'Helvetica Neue\\';font-size:14px;\">그런 내용이 심리학으로도 있는지 몰랐다.\\n</div><div style=\"font-family:\\'Helvetica Neue\\';font-size:14px;\">인간 한명을 하나의 주체로 본다는 심리학적인 접근 방법도 괜찮았다.\\n</div><div style=\"font-family:\\'Helvetica Neue\\';font-size:14px;\">다만, 너무 주체적이고, 이상적인 인간상을 그린다는 느낌.\\n</div><div style=\"font-family:\\'Helvetica Neue\\';font-size:14px;\">어쩔 수 없이 겪는 슬픔과 비인간적인 행태들.\\n</div><div style=\"font-family:\\'Helvetica Neue\\';font-size:14px;\">그리고 사람들에게 나타나는 일반적인 행동들을 바라보면\\n</div><p><!--?xml version=\"1.0\" encoding=\"UTF-8\" standalone=\"no\"?-->\\n\\n<div style=\"font-family:\\'Helvetica Neue\\';font-size:14px;\"></div></p><div style=\"font-family:\\'Helvetica Neue\\';font-size:14px;\">세상을 유토피아적인 관점으로 본다는 생각이 든다.</div><p><br /></p>'"
      ]
     },
     "execution_count": 143,
     "metadata": {},
     "output_type": "execute_result"
    }
   ],
   "source": [
    "item[\"content\"]"
   ]
  },
  {
   "cell_type": "code",
   "execution_count": 142,
   "metadata": {},
   "outputs": [],
   "source": [
    "from html.parser import HTMLParser\n",
    "\n",
    "class MLStripper(HTMLParser):\n",
    "    def __init__(self):\n",
    "        self.reset()\n",
    "        self.strict = False\n",
    "        self.convert_charrefs= True\n",
    "        self.fed = []\n",
    "    def handle_data(self, d):\n",
    "        self.fed.append(d)\n",
    "    def get_data(self):\n",
    "        return ''.join(self.fed)\n",
    "\n",
    "def strip_tags(html):\n",
    "    s = MLStripper()\n",
    "    s.feed(html)\n",
    "    return s.get_data()"
   ]
  },
  {
   "cell_type": "code",
   "execution_count": 144,
   "metadata": {},
   "outputs": [
    {
     "data": {
      "text/plain": [
       "'프로이트, 융, 그리고 알프레드 아들러\\n1장밖에 읽지 않았지만,\\n프로이트의 원인론을 정면으로 반박하면서\\n아들러가 제시하고 있는 목적론에 대해서 이야기한다.\\n과거에 인간이 이랬기 때문에 나는 지금 이런 것이다라는 주장을\\n인간은 바뀌지 못한다는 마음을 먹고 있어서, 사실 너는 바뀔 생각이 없다 하는\\n목적론을 통해서 이야기한다.\\n누군가가 되고싶고, 누군가로 닮고 싶고\\n과거를 부정하고 싶고, 다시 살고 싶고\\xa0\\n과거는 과거일 뿐, 너가 나갈 앞날은 과거하고 관련이 없다.\\n나 또한 세상을 내가 마음먹은대로, 앞으로는 내가 바라보고자 하는 방향으로 바뀔 수 있다 생각하지만\\n그런 내용이 심리학으로도 있는지 몰랐다.\\n인간 한명을 하나의 주체로 본다는 심리학적인 접근 방법도 괜찮았다.\\n다만, 너무 주체적이고, 이상적인 인간상을 그린다는 느낌.\\n어쩔 수 없이 겪는 슬픔과 비인간적인 행태들.\\n그리고 사람들에게 나타나는 일반적인 행동들을 바라보면\\n\\n\\n세상을 유토피아적인 관점으로 본다는 생각이 든다.'"
      ]
     },
     "execution_count": 144,
     "metadata": {},
     "output_type": "execute_result"
    }
   ],
   "source": [
    "strip_tags(item[\"content\"])"
   ]
  },
  {
   "cell_type": "code",
   "execution_count": null,
   "metadata": {},
   "outputs": [],
   "source": []
  }
 ],
 "metadata": {
  "kernelspec": {
   "display_name": "Python 3",
   "language": "python",
   "name": "python3"
  },
  "language_info": {
   "codemirror_mode": {
    "name": "ipython",
    "version": 3
   },
   "file_extension": ".py",
   "mimetype": "text/x-python",
   "name": "python",
   "nbconvert_exporter": "python",
   "pygments_lexer": "ipython3",
   "version": "3.7.2"
  }
 },
 "nbformat": 4,
 "nbformat_minor": 2
}
