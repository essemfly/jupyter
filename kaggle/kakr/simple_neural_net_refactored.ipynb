{
 "cells": [
  {
   "cell_type": "code",
   "execution_count": 97,
   "metadata": {},
   "outputs": [],
   "source": [
    "import pandas as pd\n",
    "import torch.nn as nn\n",
    "import torch.optim as optim\n",
    "import torch.nn.init as init\n",
    "import torch.nn.functional as F\n",
    "from torch.utils.data import Dataset, DataLoader\n",
    "from torchvision import transforms, utils\n",
    "import matplotlib.pyplot as plt"
   ]
  },
  {
   "cell_type": "code",
   "execution_count": 98,
   "metadata": {},
   "outputs": [],
   "source": [
    "class HousePriceDataset(Dataset):\n",
    "    def __init__(self, csv_file, exclude=[]):\n",
    "        houses = pd.read_csv(csv_file)\n",
    "        houses = houses.drop(exclude, axis=1)\n",
    "        self.houses = houses\n",
    "    \n",
    "    def __len__(self):\n",
    "        return len(self.houses)\n",
    "    \n",
    "    def __getitem__(self, idx):\n",
    "        return self.houses.iloc[idx, :].values\n",
    "    \n",
    "    def get_labels(self):\n",
    "        return list(self.houses)"
   ]
  },
  {
   "cell_type": "code",
   "execution_count": 99,
   "metadata": {},
   "outputs": [],
   "source": [
    "class OneLayerNet(nn.Module):\n",
    "    def __init__(self, D_in, D_out):\n",
    "        super(OneLayerNet, self).__init__()\n",
    "        self.linear1 = nn.Linear(D_in, D_out)\n",
    "\n",
    "    def forward(self, x):\n",
    "        y_pred = self.linear1(x)\n",
    "        return y_pred"
   ]
  },
  {
   "cell_type": "code",
   "execution_count": 100,
   "metadata": {},
   "outputs": [],
   "source": [
    "class TwoLayerNet(nn.Module):\n",
    "    def __init__(self, D_in, H, D_out):\n",
    "        super(TwoLayerNet, self).__init__()\n",
    "        self.linear1 = nn.Linear(D_in, H)\n",
    "        self.linear2 = nn.Linear(H, D_out)\n",
    "\n",
    "    def forward(self, x):\n",
    "        h_relu = self.linear1(x).clamp(min=0)\n",
    "        y_pred = self.linear2(h_relu)\n",
    "        return y_pred"
   ]
  },
  {
   "cell_type": "code",
   "execution_count": 101,
   "metadata": {},
   "outputs": [],
   "source": [
    "class FourLayerNet(nn.Module):\n",
    "    def __init__(self, D_in, H, D_out):\n",
    "        super(FourLayerNet, self).__init__()\n",
    "        self.linear1 = nn.Sequential(nn.Linear(D_in, H, bias=False), nn.BatchNorm1d(H))\n",
    "        self.linear2 = nn.Sequential(nn.Linear(H, H, bias=False), nn.BatchNorm1d(H))\n",
    "        self.linear3 = nn.Sequential(nn.Linear(H, H, bias=False), nn.BatchNorm1d(H))\n",
    "        self.linear4 = nn.Linear(H, D_out)\n",
    "\n",
    "    def forward(self, x):\n",
    "        h_relu = self.linear1(x).clamp(min=0)\n",
    "        h_relu2 = self.linear2(h_relu).clamp(min=0)\n",
    "        h_relu3 = self.linear3(h_relu2).clamp(min=0)\n",
    "        y_pred = self.linear4(h_relu3)\n",
    "        return y_pred"
   ]
  },
  {
   "cell_type": "code",
   "execution_count": 102,
   "metadata": {},
   "outputs": [],
   "source": [
    "def weight_init(m):\n",
    "    '''\n",
    "    Usage:\n",
    "        model = Model()\n",
    "        model.apply(weight_init)\n",
    "    '''\n",
    "    if isinstance(m, nn.Conv2d):\n",
    "        init.xavier_normal_(m.weight.data)\n",
    "        if m.bias is not None:\n",
    "            init.zeros_(m.bias.data)\n",
    "    elif isinstance(m, nn.Linear):\n",
    "        init.xavier_normal_(m.weight.data)\n",
    "        if m.bias is not None:\n",
    "            init.zeros_(m.bias.data)"
   ]
  },
  {
   "cell_type": "code",
   "execution_count": 103,
   "metadata": {},
   "outputs": [],
   "source": [
    "exclude_fields = ['date', 'id', 'zipcode', 'lat', 'long', 'condition']\n",
    "train_df = HousePriceDataset('./train.csv', exclude_fields)\n",
    "train_generator = DataLoader( \\\n",
    "    train_df, batch_size=50, shuffle=True, num_workers=1)"
   ]
  },
  {
   "cell_type": "code",
   "execution_count": 104,
   "metadata": {},
   "outputs": [],
   "source": [
    "D_in, H, D_out = 14,100,1"
   ]
  },
  {
   "cell_type": "code",
   "execution_count": 105,
   "metadata": {},
   "outputs": [],
   "source": [
    "model = FourLayerNet(D_in, H, D_out)\n",
    "model.apply(weight_init)\n",
    "criterion = nn.MSELoss(reduction='mean')\n",
    "optimizer = optim.Adam(model.parameters(), lr=0.1)"
   ]
  },
  {
   "cell_type": "code",
   "execution_count": 125,
   "metadata": {},
   "outputs": [
    {
     "name": "stdout",
     "output_type": "stream",
     "text": [
      "0 103943.3828125\n",
      "1 105112.71875\n",
      "2 105169.3671875\n",
      "3 113345.3359375\n",
      "4 52680.921875\n",
      "5 68471.84375\n",
      "6 154709.296875\n",
      "7 102765.828125\n",
      "8 103289.53125\n",
      "9 121123.421875\n",
      "10 68033.9765625\n",
      "11 328552.78125\n",
      "12 134733.671875\n",
      "13 144254.671875\n",
      "14 350536.09375\n",
      "15 43650.125\n",
      "16 47894.6328125\n",
      "17 253513.671875\n",
      "18 95521.5390625\n",
      "19 69505.25\n"
     ]
    }
   ],
   "source": [
    "for t in range(20):\n",
    "    model.train()\n",
    "    for _, data in enumerate(train_generator):\n",
    "        x, y = data[:,1:].float(), data[:, 0].float()\n",
    "        y_pred = model(x)\n",
    "        loss = criterion(y_pred, y)*1e-6\n",
    "        optimizer.zero_grad()\n",
    "        loss.backward()\n",
    "        optimizer.step()\n",
    "    print(t, loss.item())"
   ]
  },
  {
   "cell_type": "code",
   "execution_count": null,
   "metadata": {},
   "outputs": [],
   "source": []
  }
 ],
 "metadata": {
  "kernelspec": {
   "display_name": "Python 3",
   "language": "python",
   "name": "python3"
  },
  "language_info": {
   "codemirror_mode": {
    "name": "ipython",
    "version": 3
   },
   "file_extension": ".py",
   "mimetype": "text/x-python",
   "name": "python",
   "nbconvert_exporter": "python",
   "pygments_lexer": "ipython3",
   "version": "3.7.2"
  }
 },
 "nbformat": 4,
 "nbformat_minor": 2
}
