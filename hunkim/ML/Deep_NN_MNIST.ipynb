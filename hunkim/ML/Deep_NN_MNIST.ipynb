{
 "cells": [
  {
   "cell_type": "code",
   "execution_count": 17,
   "metadata": {
    "collapsed": true
   },
   "outputs": [],
   "source": [
    "import numpy as np\n",
    "import tensorflow as tf\n",
    "import matplotlib.pyplot as plt\n",
    "import random"
   ]
  },
  {
   "cell_type": "code",
   "execution_count": 18,
   "metadata": {
    "collapsed": true
   },
   "outputs": [],
   "source": [
    "from tensorflow.examples.tutorials.mnist import input_data"
   ]
  },
  {
   "cell_type": "code",
   "execution_count": 19,
   "metadata": {},
   "outputs": [
    {
     "name": "stdout",
     "output_type": "stream",
     "text": [
      "Extracting MNIst_data/train-images-idx3-ubyte.gz\n",
      "Extracting MNIst_data/train-labels-idx1-ubyte.gz\n",
      "Extracting MNIst_data/t10k-images-idx3-ubyte.gz\n",
      "Extracting MNIst_data/t10k-labels-idx1-ubyte.gz\n"
     ]
    }
   ],
   "source": [
    "mnist = input_data.read_data_sets(\"MNIst_data/\", one_hot=True)"
   ]
  },
  {
   "cell_type": "code",
   "execution_count": 26,
   "metadata": {
    "collapsed": true
   },
   "outputs": [],
   "source": [
    "nb_classes = 10"
   ]
  },
  {
   "cell_type": "code",
   "execution_count": 27,
   "metadata": {
    "collapsed": true
   },
   "outputs": [],
   "source": [
    "X = tf.placeholder(tf.float32, [None, 784])\n",
    "Y = tf.placeholder(tf.float32, [None, nb_classes])"
   ]
  },
  {
   "cell_type": "code",
   "execution_count": 28,
   "metadata": {},
   "outputs": [],
   "source": [
    "W1 = tf.Variable(tf.random_normal([784, 100]), name='weight1')\n",
    "b1 = tf.Variable(tf.random_normal([100]), name='bias1')\n",
    "layer1 = tf.nn.softmax(tf.matmul(X, W1) + b1)\n",
    "\n",
    "W2 = tf.Variable(tf.random_normal([100, nb_classes]), name='weight2')\n",
    "b2 = tf.Variable(tf.random_normal([nb_classes]), name='bias2')\n",
    "layer_last = tf.nn.softmax(tf.matmul(layer1, W2) + b2)\n",
    "\n",
    "hypothesis = layer_last\n",
    "cost = tf.reduce_mean(-tf.reduce_sum(Y * tf.log(hypothesis), axis=1))\n",
    "optimizer = tf.train.GradientDescentOptimizer(learning_rate=0.01).minimize(cost)"
   ]
  },
  {
   "cell_type": "code",
   "execution_count": 29,
   "metadata": {
    "collapsed": true
   },
   "outputs": [],
   "source": [
    "is_correct = tf.equal(tf.arg_max(hypothesis, 1), tf.arg_max(Y, 1))\n",
    "accuracy = tf.reduce_mean(tf.cast(is_correct, tf.float32))"
   ]
  },
  {
   "cell_type": "code",
   "execution_count": 40,
   "metadata": {
    "collapsed": true
   },
   "outputs": [],
   "source": [
    "training_epochs = 50\n",
    "batch_size = 100"
   ]
  },
  {
   "cell_type": "code",
   "execution_count": 41,
   "metadata": {},
   "outputs": [
    {
     "name": "stdout",
     "output_type": "stream",
     "text": [
      "Epoch: 0001 cost= 2.641283578\n",
      "Epoch: 0002 cost= 2.388554317\n",
      "Epoch: 0003 cost= 2.256166012\n",
      "Epoch: 0004 cost= 2.178746914\n",
      "Epoch: 0005 cost= 2.125247914\n",
      "Epoch: 0006 cost= 2.082352796\n",
      "Epoch: 0007 cost= 2.044416897\n",
      "Epoch: 0008 cost= 2.007999174\n",
      "Epoch: 0009 cost= 1.971890018\n",
      "Epoch: 0010 cost= 1.935983972\n",
      "Epoch: 0011 cost= 1.900113293\n",
      "Epoch: 0012 cost= 1.864636122\n",
      "Epoch: 0013 cost= 1.829998494\n",
      "Epoch: 0014 cost= 1.796474642\n",
      "Epoch: 0015 cost= 1.764344712\n",
      "Epoch: 0016 cost= 1.733716650\n",
      "Epoch: 0017 cost= 1.704673402\n",
      "Epoch: 0018 cost= 1.677361325\n",
      "Epoch: 0019 cost= 1.651999082\n",
      "Epoch: 0020 cost= 1.628354360\n",
      "Epoch: 0021 cost= 1.606128096\n",
      "Epoch: 0022 cost= 1.585053574\n",
      "Epoch: 0023 cost= 1.564956859\n",
      "Epoch: 0024 cost= 1.545629793\n",
      "Epoch: 0025 cost= 1.526972954\n",
      "Epoch: 0026 cost= 1.508865687\n",
      "Epoch: 0027 cost= 1.491385156\n",
      "Epoch: 0028 cost= 1.474461845\n",
      "Epoch: 0029 cost= 1.458050538\n",
      "Epoch: 0030 cost= 1.442155877\n",
      "Epoch: 0031 cost= 1.426848454\n",
      "Epoch: 0032 cost= 1.412099396\n",
      "Epoch: 0033 cost= 1.397833157\n",
      "Epoch: 0034 cost= 1.383887143\n",
      "Epoch: 0035 cost= 1.370126780\n",
      "Epoch: 0036 cost= 1.356654530\n",
      "Epoch: 0037 cost= 1.343508482\n",
      "Epoch: 0038 cost= 1.330770728\n",
      "Epoch: 0039 cost= 1.318407754\n",
      "Epoch: 0040 cost= 1.306386228\n",
      "Epoch: 0041 cost= 1.294631149\n",
      "Epoch: 0042 cost= 1.283101561\n",
      "Epoch: 0043 cost= 1.271783231\n",
      "Epoch: 0044 cost= 1.260685003\n",
      "Epoch: 0045 cost= 1.249809276\n",
      "Epoch: 0046 cost= 1.239181418\n",
      "Epoch: 0047 cost= 1.228818254\n",
      "Epoch: 0048 cost= 1.218662540\n",
      "Epoch: 0049 cost= 1.208722326\n",
      "Epoch: 0050 cost= 1.199009725\n",
      "Accuracy:  0.5662\n",
      "label: [5]\n",
      "Prediction: [3]\n"
     ]
    },
    {
     "data": {
      "image/png": "[encoded data removed]",
      "text/plain": [
       "<matplotlib.figure.Figure at 0x11cdac208>"
      ]
     },
     "metadata": {},
     "output_type": "display_data"
    }
   ],
   "source": [
    "with tf.Session() as sess:\n",
    "    sess.run(tf.global_variables_initializer())\n",
    "    for epoch in range(training_epochs):\n",
    "        avg_cost = 0\n",
    "        total_batch = int(mnist.train.num_examples / batch_size)\n",
    "        for i in range(total_batch):\n",
    "            batch_xs, batch_ys = mnist.train.next_batch(batch_size)\n",
    "            c, _ = sess.run([cost, optimizer], feed_dict={X: batch_xs, Y: batch_ys})\n",
    "            avg_cost += c / total_batch\n",
    "        print('Epoch:', '%04d' %(epoch+1), 'cost=', '{:.9f}'.format(avg_cost))\n",
    "    print(\"Accuracy: \", accuracy.eval(session=sess, feed_dict={X: mnist.test.images, Y: mnist.test.labels}))\n",
    "    r = random.randint(0, mnist.test.num_examples -1)\n",
    "    print(\"label:\", sess.run(tf.argmax(mnist.test.labels[r:r+1], 1)))\n",
    "    print(\"Prediction:\", sess.run(tf.argmax(hypothesis, 1), feed_dict={X: mnist.test.images[r:r+1]}))\n",
    "    plt.imshow(mnist.test.images[r:r+1].reshape(28,28), cmap='Greys', interpolation='nearest')\n",
    "    plt.show()"
   ]
  },
  {
   "cell_type": "code",
   "execution_count": null,
   "metadata": {
    "collapsed": true
   },
   "outputs": [],
   "source": []
  }
 ],
 "metadata": {
  "kernelspec": {
   "display_name": "Python 3",
   "language": "python",
   "name": "python3"
  },
  "language_info": {
   "codemirror_mode": {
    "name": "ipython",
    "version": 3
   },
   "file_extension": ".py",
   "mimetype": "text/x-python",
   "name": "python",
   "nbconvert_exporter": "python",
   "pygments_lexer": "ipython3",
   "version": "3.6.1"
  }
 },
 "nbformat": 4,
 "nbformat_minor": 2
}
