{
 "cells": [
  {
   "cell_type": "code",
   "execution_count": 2,
   "metadata": {
    "collapsed": true
   },
   "outputs": [],
   "source": [
    "import tensorflow as tf"
   ]
  },
  {
   "cell_type": "code",
   "execution_count": 3,
   "metadata": {
    "collapsed": true
   },
   "outputs": [],
   "source": [
    "import matplotlib as plt"
   ]
  },
  {
   "cell_type": "code",
   "execution_count": 4,
   "metadata": {
    "collapsed": true
   },
   "outputs": [],
   "source": [
    "import numpy as np"
   ]
  },
  {
   "cell_type": "code",
   "execution_count": 5,
   "metadata": {
    "collapsed": true
   },
   "outputs": [],
   "source": [
    "x_data = [[1,2,1,1], [2,1,3,2], [3,1,3,4], [4,1,5,5], [1,7,5,5], [1,2,5,6], [1,6,6,6], [1,7,7,7]]\n",
    "y_data = [[0,0,1], [0,0,1], [0,0,1], [0,1,0], [0,1,0] ,[0,1,0], [1,0,0], [1,0,0]]"
   ]
  },
  {
   "cell_type": "code",
   "execution_count": 6,
   "metadata": {
    "collapsed": true
   },
   "outputs": [],
   "source": [
    "X = tf.placeholder(tf.float32, shape=[None, 4])\n",
    "Y = tf.placeholder(tf.float32, shape=[None, 3])"
   ]
  },
  {
   "cell_type": "code",
   "execution_count": 15,
   "metadata": {
    "collapsed": true
   },
   "outputs": [],
   "source": [
    "np_classes = 3\n",
    "nb_classes = 7"
   ]
  },
  {
   "cell_type": "code",
   "execution_count": 17,
   "metadata": {
    "collapsed": true
   },
   "outputs": [],
   "source": [
    "W = tf.Variable(tf.random_normal([16, nb_classes]), name='weight')\n",
    "b = tf.Variable(tf.random_normal([nb_classes]), name='bias')"
   ]
  },
  {
   "cell_type": "code",
   "execution_count": 9,
   "metadata": {
    "collapsed": true
   },
   "outputs": [],
   "source": [
    "hypothesis = tf.nn.softmax(tf.matmul(X, W) + b)"
   ]
  },
  {
   "cell_type": "code",
   "execution_count": 10,
   "metadata": {
    "collapsed": true
   },
   "outputs": [],
   "source": [
    "cost = tf.reduce_mean(-tf.reduce_sum(Y * tf.log(hypothesis), axis=1))\n",
    "optimizer = tf.train.GradientDescentOptimizer(learning_rate=0.1).minimize(cost)"
   ]
  },
  {
   "cell_type": "code",
   "execution_count": 13,
   "metadata": {},
   "outputs": [],
   "source": [
    "xy = np.loadtxt('/Users/essemfly/jupyter/DeepLearningZeroToAll/data-04-zoo.csv', delimiter=',', dtype=np.float32)\n",
    "x_data = xy[:, 0:-1]\n",
    "y_data = xy[:, [-1]]"
   ]
  },
  {
   "cell_type": "code",
   "execution_count": 16,
   "metadata": {
    "collapsed": true
   },
   "outputs": [],
   "source": [
    "X = tf.placeholder(tf.float32, [None, 16])\n",
    "Y = tf.placeholder(tf.int32, [None, 1])\n",
    "Y_one_hot = tf.one_hot(Y, nb_classes)\n",
    "Y_one_hot = tf.reshape(Y_one_hot, [-1, nb_classes])"
   ]
  },
  {
   "cell_type": "code",
   "execution_count": 18,
   "metadata": {
    "collapsed": true
   },
   "outputs": [],
   "source": [
    "logits = tf.matmul(X, W) + b\n",
    "hypothesis = tf.nn.softmax(logits)"
   ]
  },
  {
   "cell_type": "code",
   "execution_count": 20,
   "metadata": {
    "collapsed": true
   },
   "outputs": [],
   "source": [
    "cost_i = tf.nn.softmax_cross_entropy_with_logits(logits=logits, labels=Y_one_hot)\n",
    "cost = tf.reduce_mean(cost_i)\n",
    "optimizer = tf.train.GradientDescentOptimizer(learning_rate=0.1).minimize(cost)"
   ]
  },
  {
   "cell_type": "code",
   "execution_count": 21,
   "metadata": {
    "collapsed": true
   },
   "outputs": [],
   "source": [
    "prediction = tf.argmax(hypothesis, 1)\n",
    "correct_prediction = tf.equal(prediction, tf.argmax(Y_one_hot, 1))\n",
    "accuracy = tf.reduce_mean(tf.cast(correct_prediction, tf.float32))"
   ]
  },
  {
   "cell_type": "code",
   "execution_count": 22,
   "metadata": {},
   "outputs": [
    {
     "name": "stdout",
     "output_type": "stream",
     "text": [
      "Step:     0\tLoss: 9.309\tAcc: 6.93%\n",
      "Step:   200\tLoss: 0.405\tAcc: 86.14%\n",
      "Step:   400\tLoss: 0.219\tAcc: 97.03%\n",
      "Step:   600\tLoss: 0.151\tAcc: 99.01%\n",
      "Step:   800\tLoss: 0.115\tAcc: 99.01%\n",
      "Step:  1000\tLoss: 0.093\tAcc: 99.01%\n",
      "Step:  1200\tLoss: 0.078\tAcc: 99.01%\n",
      "Step:  1400\tLoss: 0.067\tAcc: 100.00%\n",
      "Step:  1600\tLoss: 0.059\tAcc: 100.00%\n",
      "Step:  1800\tLoss: 0.053\tAcc: 100.00%\n",
      "Step:  2000\tLoss: 0.048\tAcc: 100.00%\n",
      "Step:  2200\tLoss: 0.044\tAcc: 100.00%\n",
      "Step:  2400\tLoss: 0.040\tAcc: 100.00%\n",
      "Step:  2600\tLoss: 0.037\tAcc: 100.00%\n",
      "Step:  2800\tLoss: 0.035\tAcc: 100.00%\n",
      "Step:  3000\tLoss: 0.033\tAcc: 100.00%\n",
      "Step:  3200\tLoss: 0.031\tAcc: 100.00%\n",
      "Step:  3400\tLoss: 0.029\tAcc: 100.00%\n",
      "Step:  3600\tLoss: 0.028\tAcc: 100.00%\n",
      "Step:  3800\tLoss: 0.026\tAcc: 100.00%\n",
      "Step:  4000\tLoss: 0.025\tAcc: 100.00%\n",
      "Step:  4200\tLoss: 0.024\tAcc: 100.00%\n",
      "Step:  4400\tLoss: 0.023\tAcc: 100.00%\n",
      "Step:  4600\tLoss: 0.022\tAcc: 100.00%\n",
      "Step:  4800\tLoss: 0.021\tAcc: 100.00%\n",
      "Step:  5000\tLoss: 0.021\tAcc: 100.00%\n",
      "Step:  5200\tLoss: 0.020\tAcc: 100.00%\n",
      "Step:  5400\tLoss: 0.019\tAcc: 100.00%\n",
      "Step:  5600\tLoss: 0.019\tAcc: 100.00%\n",
      "Step:  5800\tLoss: 0.018\tAcc: 100.00%\n",
      "Step:  6000\tLoss: 0.017\tAcc: 100.00%\n",
      "Step:  6200\tLoss: 0.017\tAcc: 100.00%\n",
      "Step:  6400\tLoss: 0.016\tAcc: 100.00%\n",
      "Step:  6600\tLoss: 0.016\tAcc: 100.00%\n",
      "Step:  6800\tLoss: 0.016\tAcc: 100.00%\n",
      "Step:  7000\tLoss: 0.015\tAcc: 100.00%\n",
      "Step:  7200\tLoss: 0.015\tAcc: 100.00%\n",
      "Step:  7400\tLoss: 0.014\tAcc: 100.00%\n",
      "Step:  7600\tLoss: 0.014\tAcc: 100.00%\n",
      "Step:  7800\tLoss: 0.014\tAcc: 100.00%\n",
      "Step:  8000\tLoss: 0.013\tAcc: 100.00%\n",
      "Step:  8200\tLoss: 0.013\tAcc: 100.00%\n",
      "Step:  8400\tLoss: 0.013\tAcc: 100.00%\n",
      "Step:  8600\tLoss: 0.013\tAcc: 100.00%\n",
      "Step:  8800\tLoss: 0.012\tAcc: 100.00%\n",
      "Step:  9000\tLoss: 0.012\tAcc: 100.00%\n",
      "Step:  9200\tLoss: 0.012\tAcc: 100.00%\n",
      "Step:  9400\tLoss: 0.012\tAcc: 100.00%\n",
      "Step:  9600\tLoss: 0.011\tAcc: 100.00%\n",
      "Step:  9800\tLoss: 0.011\tAcc: 100.00%\n",
      "Step: 10000\tLoss: 0.011\tAcc: 100.00%\n",
      "Step: 10200\tLoss: 0.011\tAcc: 100.00%\n",
      "Step: 10400\tLoss: 0.011\tAcc: 100.00%\n",
      "Step: 10600\tLoss: 0.010\tAcc: 100.00%\n",
      "Step: 10800\tLoss: 0.010\tAcc: 100.00%\n",
      "Step: 11000\tLoss: 0.010\tAcc: 100.00%\n",
      "Step: 11200\tLoss: 0.010\tAcc: 100.00%\n",
      "Step: 11400\tLoss: 0.010\tAcc: 100.00%\n",
      "Step: 11600\tLoss: 0.010\tAcc: 100.00%\n",
      "Step: 11800\tLoss: 0.009\tAcc: 100.00%\n",
      "Step: 12000\tLoss: 0.009\tAcc: 100.00%\n",
      "Step: 12200\tLoss: 0.009\tAcc: 100.00%\n",
      "Step: 12400\tLoss: 0.009\tAcc: 100.00%\n",
      "Step: 12600\tLoss: 0.009\tAcc: 100.00%\n",
      "Step: 12800\tLoss: 0.009\tAcc: 100.00%\n",
      "Step: 13000\tLoss: 0.009\tAcc: 100.00%\n",
      "Step: 13200\tLoss: 0.008\tAcc: 100.00%\n",
      "Step: 13400\tLoss: 0.008\tAcc: 100.00%\n",
      "Step: 13600\tLoss: 0.008\tAcc: 100.00%\n",
      "Step: 13800\tLoss: 0.008\tAcc: 100.00%\n",
      "Step: 14000\tLoss: 0.008\tAcc: 100.00%\n",
      "Step: 14200\tLoss: 0.008\tAcc: 100.00%\n",
      "Step: 14400\tLoss: 0.008\tAcc: 100.00%\n",
      "Step: 14600\tLoss: 0.008\tAcc: 100.00%\n",
      "Step: 14800\tLoss: 0.008\tAcc: 100.00%\n",
      "Step: 15000\tLoss: 0.008\tAcc: 100.00%\n",
      "Step: 15200\tLoss: 0.007\tAcc: 100.00%\n",
      "Step: 15400\tLoss: 0.007\tAcc: 100.00%\n",
      "Step: 15600\tLoss: 0.007\tAcc: 100.00%\n",
      "Step: 15800\tLoss: 0.007\tAcc: 100.00%\n",
      "Step: 16000\tLoss: 0.007\tAcc: 100.00%\n",
      "Step: 16200\tLoss: 0.007\tAcc: 100.00%\n",
      "Step: 16400\tLoss: 0.007\tAcc: 100.00%\n",
      "Step: 16600\tLoss: 0.007\tAcc: 100.00%\n",
      "Step: 16800\tLoss: 0.007\tAcc: 100.00%\n",
      "Step: 17000\tLoss: 0.007\tAcc: 100.00%\n",
      "Step: 17200\tLoss: 0.007\tAcc: 100.00%\n",
      "Step: 17400\tLoss: 0.007\tAcc: 100.00%\n",
      "Step: 17600\tLoss: 0.006\tAcc: 100.00%\n",
      "Step: 17800\tLoss: 0.006\tAcc: 100.00%\n",
      "Step: 18000\tLoss: 0.006\tAcc: 100.00%\n",
      "Step: 18200\tLoss: 0.006\tAcc: 100.00%\n",
      "Step: 18400\tLoss: 0.006\tAcc: 100.00%\n",
      "Step: 18600\tLoss: 0.006\tAcc: 100.00%\n",
      "Step: 18800\tLoss: 0.006\tAcc: 100.00%\n",
      "Step: 19000\tLoss: 0.006\tAcc: 100.00%\n",
      "Step: 19200\tLoss: 0.006\tAcc: 100.00%\n",
      "Step: 19400\tLoss: 0.006\tAcc: 100.00%\n",
      "Step: 19600\tLoss: 0.006\tAcc: 100.00%\n",
      "Step: 19800\tLoss: 0.006\tAcc: 100.00%\n",
      "Step: 20000\tLoss: 0.006\tAcc: 100.00%\n",
      "Step: 20200\tLoss: 0.006\tAcc: 100.00%\n",
      "Step: 20400\tLoss: 0.006\tAcc: 100.00%\n",
      "Step: 20600\tLoss: 0.006\tAcc: 100.00%\n",
      "Step: 20800\tLoss: 0.006\tAcc: 100.00%\n",
      "Step: 21000\tLoss: 0.005\tAcc: 100.00%\n",
      "Step: 21200\tLoss: 0.005\tAcc: 100.00%\n",
      "Step: 21400\tLoss: 0.005\tAcc: 100.00%\n",
      "Step: 21600\tLoss: 0.005\tAcc: 100.00%\n",
      "Step: 21800\tLoss: 0.005\tAcc: 100.00%\n",
      "Step: 22000\tLoss: 0.005\tAcc: 100.00%\n",
      "Step: 22200\tLoss: 0.005\tAcc: 100.00%\n",
      "Step: 22400\tLoss: 0.005\tAcc: 100.00%\n",
      "Step: 22600\tLoss: 0.005\tAcc: 100.00%\n",
      "Step: 22800\tLoss: 0.005\tAcc: 100.00%\n",
      "Step: 23000\tLoss: 0.005\tAcc: 100.00%\n",
      "Step: 23200\tLoss: 0.005\tAcc: 100.00%\n",
      "Step: 23400\tLoss: 0.005\tAcc: 100.00%\n",
      "Step: 23600\tLoss: 0.005\tAcc: 100.00%\n",
      "Step: 23800\tLoss: 0.005\tAcc: 100.00%\n",
      "Step: 24000\tLoss: 0.005\tAcc: 100.00%\n",
      "Step: 24200\tLoss: 0.005\tAcc: 100.00%\n",
      "Step: 24400\tLoss: 0.005\tAcc: 100.00%\n",
      "Step: 24600\tLoss: 0.005\tAcc: 100.00%\n",
      "Step: 24800\tLoss: 0.005\tAcc: 100.00%\n",
      "Step: 25000\tLoss: 0.005\tAcc: 100.00%\n",
      "Step: 25200\tLoss: 0.005\tAcc: 100.00%\n",
      "Step: 25400\tLoss: 0.005\tAcc: 100.00%\n",
      "Step: 25600\tLoss: 0.005\tAcc: 100.00%\n",
      "Step: 25800\tLoss: 0.005\tAcc: 100.00%\n",
      "Step: 26000\tLoss: 0.004\tAcc: 100.00%\n",
      "Step: 26200\tLoss: 0.004\tAcc: 100.00%\n",
      "Step: 26400\tLoss: 0.004\tAcc: 100.00%\n",
      "Step: 26600\tLoss: 0.004\tAcc: 100.00%\n",
      "Step: 26800\tLoss: 0.004\tAcc: 100.00%\n",
      "Step: 27000\tLoss: 0.004\tAcc: 100.00%\n",
      "Step: 27200\tLoss: 0.004\tAcc: 100.00%\n",
      "Step: 27400\tLoss: 0.004\tAcc: 100.00%\n",
      "Step: 27600\tLoss: 0.004\tAcc: 100.00%\n",
      "Step: 27800\tLoss: 0.004\tAcc: 100.00%\n",
      "Step: 28000\tLoss: 0.004\tAcc: 100.00%\n",
      "Step: 28200\tLoss: 0.004\tAcc: 100.00%\n",
      "Step: 28400\tLoss: 0.004\tAcc: 100.00%\n",
      "Step: 28600\tLoss: 0.004\tAcc: 100.00%\n",
      "Step: 28800\tLoss: 0.004\tAcc: 100.00%\n",
      "Step: 29000\tLoss: 0.004\tAcc: 100.00%\n",
      "Step: 29200\tLoss: 0.004\tAcc: 100.00%\n",
      "Step: 29400\tLoss: 0.004\tAcc: 100.00%\n",
      "Step: 29600\tLoss: 0.004\tAcc: 100.00%\n",
      "Step: 29800\tLoss: 0.004\tAcc: 100.00%\n",
      "Step: 30000\tLoss: 0.004\tAcc: 100.00%\n",
      "[True] Prediction: 0 True Y: 0\n",
      "[True] Prediction: 0 True Y: 0\n",
      "[True] Prediction: 3 True Y: 3\n",
      "[True] Prediction: 0 True Y: 0\n",
      "[True] Prediction: 0 True Y: 0\n",
      "[True] Prediction: 0 True Y: 0\n",
      "[True] Prediction: 0 True Y: 0\n",
      "[True] Prediction: 3 True Y: 3\n",
      "[True] Prediction: 3 True Y: 3\n",
      "[True] Prediction: 0 True Y: 0\n",
      "[True] Prediction: 0 True Y: 0\n",
      "[True] Prediction: 1 True Y: 1\n",
      "[True] Prediction: 3 True Y: 3\n",
      "[True] Prediction: 6 True Y: 6\n",
      "[True] Prediction: 6 True Y: 6\n",
      "[True] Prediction: 6 True Y: 6\n",
      "[True] Prediction: 1 True Y: 1\n",
      "[True] Prediction: 0 True Y: 0\n",
      "[True] Prediction: 3 True Y: 3\n",
      "[True] Prediction: 0 True Y: 0\n",
      "[True] Prediction: 1 True Y: 1\n",
      "[True] Prediction: 1 True Y: 1\n",
      "[True] Prediction: 0 True Y: 0\n",
      "[True] Prediction: 1 True Y: 1\n",
      "[True] Prediction: 5 True Y: 5\n",
      "[True] Prediction: 4 True Y: 4\n",
      "[True] Prediction: 4 True Y: 4\n",
      "[True] Prediction: 0 True Y: 0\n",
      "[True] Prediction: 0 True Y: 0\n",
      "[True] Prediction: 0 True Y: 0\n",
      "[True] Prediction: 5 True Y: 5\n",
      "[True] Prediction: 0 True Y: 0\n",
      "[True] Prediction: 0 True Y: 0\n",
      "[True] Prediction: 1 True Y: 1\n",
      "[True] Prediction: 3 True Y: 3\n",
      "[True] Prediction: 0 True Y: 0\n",
      "[True] Prediction: 0 True Y: 0\n",
      "[True] Prediction: 1 True Y: 1\n",
      "[True] Prediction: 3 True Y: 3\n",
      "[True] Prediction: 5 True Y: 5\n",
      "[True] Prediction: 5 True Y: 5\n",
      "[True] Prediction: 1 True Y: 1\n",
      "[True] Prediction: 5 True Y: 5\n",
      "[True] Prediction: 1 True Y: 1\n",
      "[True] Prediction: 0 True Y: 0\n",
      "[True] Prediction: 0 True Y: 0\n",
      "[True] Prediction: 6 True Y: 6\n",
      "[True] Prediction: 0 True Y: 0\n",
      "[True] Prediction: 0 True Y: 0\n",
      "[True] Prediction: 0 True Y: 0\n",
      "[True] Prediction: 0 True Y: 0\n",
      "[True] Prediction: 5 True Y: 5\n",
      "[True] Prediction: 4 True Y: 4\n",
      "[True] Prediction: 6 True Y: 6\n",
      "[True] Prediction: 0 True Y: 0\n",
      "[True] Prediction: 0 True Y: 0\n",
      "[True] Prediction: 1 True Y: 1\n",
      "[True] Prediction: 1 True Y: 1\n",
      "[True] Prediction: 1 True Y: 1\n",
      "[True] Prediction: 1 True Y: 1\n",
      "[True] Prediction: 3 True Y: 3\n",
      "[True] Prediction: 3 True Y: 3\n",
      "[True] Prediction: 2 True Y: 2\n",
      "[True] Prediction: 0 True Y: 0\n",
      "[True] Prediction: 0 True Y: 0\n",
      "[True] Prediction: 0 True Y: 0\n",
      "[True] Prediction: 0 True Y: 0\n",
      "[True] Prediction: 0 True Y: 0\n",
      "[True] Prediction: 0 True Y: 0\n",
      "[True] Prediction: 0 True Y: 0\n",
      "[True] Prediction: 0 True Y: 0\n",
      "[True] Prediction: 1 True Y: 1\n",
      "[True] Prediction: 6 True Y: 6\n",
      "[True] Prediction: 3 True Y: 3\n",
      "[True] Prediction: 0 True Y: 0\n",
      "[True] Prediction: 0 True Y: 0\n",
      "[True] Prediction: 2 True Y: 2\n",
      "[True] Prediction: 6 True Y: 6\n",
      "[True] Prediction: 1 True Y: 1\n",
      "[True] Prediction: 1 True Y: 1\n",
      "[True] Prediction: 2 True Y: 2\n",
      "[True] Prediction: 6 True Y: 6\n",
      "[True] Prediction: 3 True Y: 3\n",
      "[True] Prediction: 1 True Y: 1\n",
      "[True] Prediction: 0 True Y: 0\n",
      "[True] Prediction: 6 True Y: 6\n",
      "[True] Prediction: 3 True Y: 3\n",
      "[True] Prediction: 1 True Y: 1\n",
      "[True] Prediction: 5 True Y: 5\n",
      "[True] Prediction: 4 True Y: 4\n",
      "[True] Prediction: 2 True Y: 2\n",
      "[True] Prediction: 2 True Y: 2\n",
      "[True] Prediction: 3 True Y: 3\n",
      "[True] Prediction: 0 True Y: 0\n",
      "[True] Prediction: 0 True Y: 0\n",
      "[True] Prediction: 1 True Y: 1\n",
      "[True] Prediction: 0 True Y: 0\n",
      "[True] Prediction: 5 True Y: 5\n",
      "[True] Prediction: 0 True Y: 0\n",
      "[True] Prediction: 6 True Y: 6\n",
      "[True] Prediction: 1 True Y: 1\n"
     ]
    }
   ],
   "source": [
    "with tf.Session() as sess:\n",
    "    sess.run(tf.global_variables_initializer())\n",
    "    for step in range(30001):\n",
    "        sess.run(optimizer, feed_dict={X: x_data, Y: y_data})\n",
    "        if step % 200 == 0:\n",
    "            loss, acc = sess.run([cost, accuracy], feed_dict={X: x_data, Y: y_data})\n",
    "            print(\"Step: {:5}\\tLoss: {:.3f}\\tAcc: {:.2%}\".format(step, loss, acc))\n",
    "    pred = sess.run(prediction, feed_dict={X: x_data})\n",
    "    for p, y in zip(pred, y_data.flatten()):\n",
    "        print(\"[{}] Prediction: {} True Y: {}\". format(p == int(y), p, int(y)))"
   ]
  },
  {
   "cell_type": "code",
   "execution_count": 15,
   "metadata": {
    "collapsed": true
   },
   "outputs": [],
   "source": [
    "import numpy as np"
   ]
  },
  {
   "cell_type": "code",
   "execution_count": 27,
   "metadata": {
    "collapsed": true
   },
   "outputs": [],
   "source": [
    "xy = np.loadtxt('/Users/essemfly/jupyter/DeepLearningZeroToAll/data-03-diabetes.csv', delimiter=',', dtype=np.float32)\n",
    "x_data = xy[:, 0:-1]\n",
    "y_data = xy[:, [-1]]"
   ]
  },
  {
   "cell_type": "code",
   "execution_count": null,
   "metadata": {
    "collapsed": true
   },
   "outputs": [],
   "source": []
  }
 ],
 "metadata": {
  "kernelspec": {
   "display_name": "Python 3",
   "language": "python",
   "name": "python3"
  },
  "language_info": {
   "codemirror_mode": {
    "name": "ipython",
    "version": 3
   },
   "file_extension": ".py",
   "mimetype": "text/x-python",
   "name": "python",
   "nbconvert_exporter": "python",
   "pygments_lexer": "ipython3",
   "version": "3.6.1"
  }
 },
 "nbformat": 4,
 "nbformat_minor": 2
}
